{
 "cells": [
  {
   "cell_type": "code",
   "execution_count": 48,
   "id": "c350fd45-8cf3-40f6-9758-568da8362c00",
   "metadata": {},
   "outputs": [],
   "source": [
    "import operator\n",
    "from collections import defaultdict\n",
    "\n",
    "import matplotlib.pyplot as plt\n",
    "import numpy as np\n",
    "\n",
    "import figures\n",
    "from cohort_model import (\n",
    "    get_mean_and_std,\n",
    "    population_survivorship_difference, \n",
    "    run_simulation,\n",
    "    HYP_WILD_TYPE, \n",
    "    MUTANT_CAP,\n",
    "    MUTANT_WILD\n",
    ")\n",
    "from fitness import get_fitness_data\n",
    "from parameter_estimation import mean_survivorship"
   ]
  },
  {
   "cell_type": "markdown",
   "id": "26b46820-0ece-48b2-bdcc-fddbcc34f600",
   "metadata": {
    "tags": []
   },
   "source": [
    "# Parameter estimation for case study 1 (*Frontinella pyramitela*)"
   ]
  },
  {
   "cell_type": "markdown",
   "id": "bdba215a-7682-4582-9299-cce2a269f11b",
   "metadata": {},
   "source": [
    "## Estimating $\\alpha$ and $\\kappa$"
   ]
  },
  {
   "cell_type": "markdown",
   "id": "16cd99b4-6d4d-4f64-8520-bfb3a17bb468",
   "metadata": {},
   "source": [
    "**Note:** The $\\alpha$ and $\\kappa$ values used in figures 1 and 2 were obtained during an earlier least squares fitting. In restructuring the code for publication we have also improved the fitting procedure and obtained new and better values for $\\alpha$ and $\\kappa$. However, these are not used in the figure in order to produce results matching the ones in the published paper (which could not be updated by the time we obtained the better fit)."
   ]
  },
  {
   "cell_type": "code",
   "execution_count": 31,
   "id": "15b6091c-5da7-4783-82c7-56972fec3eb7",
   "metadata": {},
   "outputs": [],
   "source": [
    "# Simulation parameters\n",
    "individual_count = 1000 # Also used in figures 1, 2\n",
    "repetition_count = 100  # Also used in figure 1\n",
    "t_m_captivity = 201          # Also used in figure 1\n",
    "t_m_wt = 100             # Also used in figure 1\n",
    "\n",
    "cohort = np.ones(individual_count)"
   ]
  },
  {
   "cell_type": "code",
   "execution_count": 22,
   "id": "9f2d845b-11c0-4082-9637-fcc37c664b5a",
   "metadata": {},
   "outputs": [],
   "source": [
    "captivity_x = np.genfromtxt('data/austad_1989/captivity_x.txt')\n",
    "captivity_x = np.genfromtxt('data/austad_1989/captivity_y.txt')\n",
    "\n",
    "xdata = np.round(captivity_x).astype('int64') # In order to use for indexing\n",
    "ydata = captivity_y * individual_count"
   ]
  },
  {
   "cell_type": "code",
   "execution_count": 9,
   "id": "28dd3166-974c-483e-97b1-3acfec9800c8",
   "metadata": {
    "tags": []
   },
   "outputs": [
    {
     "name": "stdout",
     "output_type": "stream",
     "text": [
      "CPU times: user 5h 22min 6s, sys: 5h 23min 57s, total: 10h 46min 3s\n",
      "Wall time: 11h 48min 21s\n"
     ]
    }
   ],
   "source": [
    "%%time\n",
    "data_count = len(xdata)\n",
    "\n",
    "fit = []\n",
    "for alpha in np.arange(0.0001, 0.0003, 0.00001): \n",
    "    for kappa in np.arange(0.02, 0.04, 0.0001): \n",
    "        hazard_rate_parameters = dict(alpha=alpha, kappa=kappa)\n",
    "        population_survivorship = run_simulation(\n",
    "            repetition_count, \n",
    "            cohort, \n",
    "            hazard_rate_parameters, \n",
    "            t_m_captivity, \n",
    "            population=MUTANT_CAP\n",
    "        )\n",
    "        mean = np.mean(population_survivorship, axis=0)[xdata]\n",
    "        squares = [(mean[index] - ydata[index])**2 for index in range(data_count)] \n",
    "        fit.append((alpha, kappa, sum(squares)))"
   ]
  },
  {
   "cell_type": "code",
   "execution_count": 10,
   "id": "2a739ba8-2d60-426c-b7c8-ed54e7d3e45f",
   "metadata": {
    "tags": []
   },
   "outputs": [
    {
     "name": "stdout",
     "output_type": "stream",
     "text": [
      "(0.00017999999999999998, 0.03439999999999992, 1025.9572000000035)\n",
      "(0.00017, 0.03489999999999991, 1052.283500000001)\n",
      "(0.00015999999999999999, 0.03549999999999991, 1077.2380999999991)\n",
      "(0.00019, 0.03419999999999991, 1079.1534000000008)\n",
      "(0.00015999999999999999, 0.035399999999999904, 1084.1393999999975)\n",
      "(0.00019, 0.033899999999999916, 1097.285300000001)\n",
      "(0.00017999999999999998, 0.03449999999999991, 1097.6012999999969)\n",
      "(0.00019, 0.03399999999999992, 1097.812399999998)\n",
      "(0.00017, 0.03509999999999991, 1102.5906000000023)\n",
      "(0.00017, 0.034999999999999906, 1109.3250999999993)\n"
     ]
    }
   ],
   "source": [
    "best_fits = sorted(fit, key=operator.itemgetter(2))\n",
    "print(*best_fits[0:10], sep=\"\\n\")"
   ]
  },
  {
   "cell_type": "code",
   "execution_count": 23,
   "id": "da7116bc-25f3-4fc4-991e-9873a3a3618f",
   "metadata": {
    "tags": []
   },
   "outputs": [
    {
     "data": {
      "text/plain": [
       "[<matplotlib.lines.Line2D at 0x105ed9ee0>]"
      ]
     },
     "execution_count": 23,
     "metadata": {},
     "output_type": "execute_result"
    },
    {
     "data": {
      "image/png": "[encoded data removed]",
      "text/plain": [
       "<Figure size 432x288 with 1 Axes>"
      ]
     },
     "metadata": {
      "needs_background": "light"
     },
     "output_type": "display_data"
    }
   ],
   "source": [
    "# Inspect the best fit\n",
    "plt.plot(np.arange(t_m_captivity), mean_survivorship(np.arange(t_m_captivity), 0.00018, 0.0344, t_m_captivity, individual_count, repetition_count), 'r-')\n",
    "plt.plot(xdata, ydata, 'ro')"
   ]
  },
  {
   "cell_type": "markdown",
   "id": "d431e58c-404c-4f33-b74b-166ed05fa5e7",
   "metadata": {},
   "source": [
    "### Estimating $\\epsilon$ and $h_{wt}(t)$"
   ]
  },
  {
   "cell_type": "code",
   "execution_count": 42,
   "id": "6aa3a554-e111-435e-808b-47c0475a1d9a",
   "metadata": {},
   "outputs": [],
   "source": [
    "x_wild = np.genfromtxt('data/austad_1989/wild_x.txt')\n",
    "y_wild = np.genfromtxt('data/austad_1989/wild_y.txt')\n",
    "\n",
    "xdata_w = np.round(x_wild).astype('int64') # In order to use for indexing\n",
    "ydata_w = y_wild * individual_count\n",
    "\n",
    "xdata_w = xdata_w[:-2] # In order not to fit to the last two data points\n",
    "ydata_w = ydata_w[:-2] # In order not to fit to the last two data points"
   ]
  },
  {
   "cell_type": "code",
   "execution_count": 46,
   "id": "38fcdcc2-af9e-4201-aeb8-d16f9866d6c0",
   "metadata": {},
   "outputs": [],
   "source": [
    "%%time\n",
    "n = len(xdata_w)\n",
    "\n",
    "fit = []\n",
    "for prod_wt in np.arange(0.0378, 0.0382, 0.000025):  # prod_wt = (1 - epsilon) * h_wt\n",
    "    hazard_rate_parameters = dict(alpha=None, kappa=None, hazard_rate_wild_type=prod_wt) # TODO: Refactor get_hazard_rate to not need alpha and kappa\n",
    "    population_survivorship = run_simulation(\n",
    "        repetition_count, \n",
    "        cohort, \n",
    "        hazard_rate_parameters, \n",
    "        101,  # TODO: t_m, cannot index with length 100 \n",
    "        population=HYP_WILD_TYPE\n",
    "    )\n",
    "    mean = np.mean(population_survivorship, axis=0)[xdata_w]\n",
    "    squares = [(mean[i] - ydata_w[i])**2 for i in range(n)] # Not fitting to last two data points in xdata_w,ydata_w\n",
    "    fit.append((prod_wt, sum(squares)))"
   ]
  },
  {
   "cell_type": "code",
   "execution_count": 49,
   "id": "1c846087-9c42-46de-a108-1d79e126d5f2",
   "metadata": {},
   "outputs": [
    {
     "name": "stdout",
     "output_type": "stream",
     "text": [
      "(0.037949999999999984, 961.1146000000003)\n",
      "(0.037924999999999986, 1009.9925000000006)\n",
      "(0.037849999999999995, 1095.5961000000002)\n",
      "(0.03789999999999999, 1121.5972999999976)\n",
      "(0.03807499999999997, 1137.6909999999962)\n",
      "(0.03817499999999996, 1145.7741999999948)\n",
      "(0.03787499999999999, 1154.5780999999974)\n",
      "(0.03814999999999996, 1171.3541999999995)\n",
      "(0.037825, 1172.4280999999967)\n",
      "(0.03799999999999998, 1175.9946)\n"
     ]
    }
   ],
   "source": [
    "best_fits = sorted(fit, key=operator.itemgetter(1))\n",
    "print(*best_fits[0:10], sep=\"\\n\")"
   ]
  },
  {
   "cell_type": "code",
   "execution_count": 55,
   "id": "9d61c53d-9dab-4a0c-9e17-c1f86296a17c",
   "metadata": {},
   "outputs": [
    {
     "name": "stdout",
     "output_type": "stream",
     "text": [
      "epsilon = 0.01, h_wt = 0.038333333333333316\n",
      "epsilon = 0.02, h_wt = 0.03872448979591835\n",
      "epsilon = 0.03, h_wt = 0.03912371134020617\n",
      "epsilon = 0.04, h_wt = 0.03953124999999998\n"
     ]
    }
   ],
   "source": [
    "prod_wt = best_fits[0][0]\n",
    "for epsilon in np.arange(0.01, 0.05, 0.01):\n",
    "    h_wt = prod_wt / (1 - epsilon)\n",
    "    print(f'epsilon = {epsilon}, h_wt = {h_wt}')"
   ]
  }
 ],
 "metadata": {
  "kernelspec": {
   "display_name": "Python 3",
   "language": "python",
   "name": "python3"
  },
  "language_info": {
   "codemirror_mode": {
    "name": "ipython",
    "version": 3
   },
   "file_extension": ".py",
   "mimetype": "text/x-python",
   "name": "python",
   "nbconvert_exporter": "python",
   "pygments_lexer": "ipython3",
   "version": "3.8.5"
  }
 },
 "nbformat": 4,
 "nbformat_minor": 5
}
