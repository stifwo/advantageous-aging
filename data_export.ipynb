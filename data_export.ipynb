{
 "cells": [
  {
   "cell_type": "markdown",
   "id": "21b4b001-6fab-4ef5-baa7-875bade280c3",
   "metadata": {},
   "source": [
    "# Data export"
   ]
  },
  {
   "cell_type": "code",
   "execution_count": 1,
   "id": "bba8c0a0-8ae7-48f4-9302-4b668f15f17b",
   "metadata": {},
   "outputs": [],
   "source": [
    "import numpy as np"
   ]
  },
  {
   "cell_type": "markdown",
   "id": "6ae99e0d-7713-4978-a01a-fb0e40354371",
   "metadata": {},
   "source": [
    "## Austad (1989)"
   ]
  },
  {
   "cell_type": "code",
   "execution_count": 2,
   "id": "8facf434-6d7f-4834-93f2-2b93cd7457e1",
   "metadata": {},
   "outputs": [],
   "source": [
    "# Extracted from Austad (1989), figure 2\n",
    "X_C = [0, 30 * 217 / 65, 40 * 217 / 65, 51 * 217 / 65, 60 * 217 / 65]\n",
    "Y_C = [1.0, 0.8895, 0.592, 0.174, 0.0239]"
   ]
  },
  {
   "cell_type": "code",
   "execution_count": 3,
   "id": "e87d7fb7-5763-44ce-96c7-0322b5bd1421",
   "metadata": {},
   "outputs": [],
   "source": [
    "np.savetxt(\n",
    "    'data/austad_1989/captivity_x.txt',\n",
    "    X_C,\n",
    ")\n",
    "\n",
    "np.savetxt(\n",
    "    'data/austad_1989/captivity_y.txt',\n",
    "    Y_C,\n",
    ")"
   ]
  },
  {
   "cell_type": "code",
   "execution_count": 4,
   "id": "b38e4def-f36c-4961-a880-88f61b8f5a54",
   "metadata": {},
   "outputs": [],
   "source": [
    "# Extracted from Austad (1989), figure 1\n",
    "X_W = [0, 5 * 100 / 30, 10 * 100 / 30, 15 * 100 / 30, 20 * 100 / 30, 30 * 100 / 30]\n",
    "Y_W = [1.0, 0.5498, 0.268, 0.148, 0.05, 0.0]"
   ]
  },
  {
   "cell_type": "code",
   "execution_count": 5,
   "id": "0190d8de-b9a6-4ca9-a3fa-c9f16c8b5ec0",
   "metadata": {},
   "outputs": [],
   "source": [
    "np.savetxt(\n",
    "    'data/austad_1989/wild_x.txt',\n",
    "    X_W,\n",
    ")\n",
    "\n",
    "np.savetxt(\n",
    "    'data/austad_1989/wild_y.txt',\n",
    "    Y_W,\n",
    ")"
   ]
  },
  {
   "cell_type": "markdown",
   "id": "8f8a4caa-35f0-4128-9ea8-6b5c2dd58bd3",
   "metadata": {},
   "source": [
    "## Kawasaki (2008)"
   ]
  },
  {
   "cell_type": "code",
   "execution_count": 6,
   "id": "e2a595b3-e819-4e94-8d33-c69dd88b5937",
   "metadata": {},
   "outputs": [],
   "source": [
    "# Females captivity: extraction from Kawasaki et al (2008), figure 5\n",
    "X_C_F = [\n",
    "    0,\n",
    "    325 * (37 / 148),\n",
    "    325 * (52 / 148),\n",
    "    325 * (73.5 / 148),\n",
    "    325 * (91 / 148),\n",
    "    325 * (109 / 148),\n",
    "    325 * (120 / 148),\n",
    "    325 * (148 / 148),\n",
    "]\n",
    "\n",
    "Y_C_F = [1.0, 0.9, 0.8, 0.6, 0.4, 0.2, 0.1, 0.0]"
   ]
  },
  {
   "cell_type": "code",
   "execution_count": 7,
   "id": "a612851e-569a-45ff-9948-51f505646816",
   "metadata": {},
   "outputs": [],
   "source": [
    "np.savetxt(\n",
    "    'data/kawasaki_2008/captivity_females_x.txt',\n",
    "    X_C_F,\n",
    ")\n",
    "\n",
    "np.savetxt(\n",
    "    'data/kawasaki_2008/captivity_females_y.txt',\n",
    "    Y_C_F,\n",
    ")"
   ]
  },
  {
   "cell_type": "code",
   "execution_count": 8,
   "id": "72bc5902-d43c-4d59-a667-4431f89b4210",
   "metadata": {},
   "outputs": [],
   "source": [
    "# Males captivity: extraction from Kawasaki et al (2008), figure 5\n",
    "X_C_M = [\n",
    "    0,\n",
    "    290 * (49 / 131.5),\n",
    "    290 * (61 / 131.5),\n",
    "    290 * (78 / 131.5),\n",
    "    290 * (91 / 131.5),\n",
    "    290 * (104 / 131.5),\n",
    "    290 * (112 / 131.5),\n",
    "    290 * (131.5 / 131.5),\n",
    "]\n",
    "\n",
    "Y_C_M = [1.0, 0.9, 0.8, 0.6, 0.4, 0.2, 0.1, 0.0]"
   ]
  },
  {
   "cell_type": "code",
   "execution_count": 9,
   "id": "415302d7-5e8f-4a05-bcd3-c55d7039bd01",
   "metadata": {},
   "outputs": [],
   "source": [
    "np.savetxt(\n",
    "    'data/kawasaki_2008/captivity_males_x.txt',\n",
    "    X_C_M,\n",
    ")\n",
    "\n",
    "np.savetxt(\n",
    "    'data/kawasaki_2008/captivity_males_y.txt',\n",
    "    Y_C_M,\n",
    ")"
   ]
  },
  {
   "cell_type": "code",
   "execution_count": 10,
   "id": "8029bd47-b774-416c-b83a-09a16041da77",
   "metadata": {},
   "outputs": [],
   "source": [
    "# Females wild: extraction from Kawasaki et al (2008), figure 5\n",
    "X_W_F = [0, 100 * 2 / 45, 100 * 4 / 45, 100 * 8 / 45, 100 * 14 / 45, 100 * 45 / 45]\n",
    "Y_W_F = [1.0, 0.8, 0.6, 0.4, 0.2, 0.0]"
   ]
  },
  {
   "cell_type": "code",
   "execution_count": 11,
   "id": "c4894d47-e57d-4d4d-94c5-c480ec1fc677",
   "metadata": {},
   "outputs": [],
   "source": [
    "np.savetxt(\n",
    "    'data/kawasaki_2008/wild_females_x.txt',\n",
    "    X_W_F,\n",
    ")\n",
    "\n",
    "np.savetxt(\n",
    "    'data/kawasaki_2008/wild_females_y.txt',\n",
    "    Y_W_F,\n",
    ")"
   ]
  },
  {
   "cell_type": "code",
   "execution_count": 12,
   "id": "2da7ef62-91ff-462e-8d92-240b9a2dc281",
   "metadata": {},
   "outputs": [],
   "source": [
    "# Males wild: extraction from Kawasaki et al (2008), figure 5\n",
    "X_W_M = [0, 53 * 2.5 / 24, 53 * 5 / 24, 53 * 8.5 / 24, 53 * 12 / 24, 53 * 24 / 24]\n",
    "Y_W_M = [1.0, 0.8, 0.6, 0.4, 0.2, 0.0]"
   ]
  },
  {
   "cell_type": "code",
   "execution_count": 13,
   "id": "a23d3797-7a1b-45c9-98d5-8d135c6679de",
   "metadata": {},
   "outputs": [],
   "source": [
    "np.savetxt(\n",
    "    'data/kawasaki_2008/wild_males_x.txt',\n",
    "    X_W_M,\n",
    ")\n",
    "\n",
    "np.savetxt(\n",
    "    'data/kawasaki_2008/wild_males_y.txt',\n",
    "    Y_W_M,\n",
    ")"
   ]
  }
 ],
 "metadata": {
  "kernelspec": {
   "display_name": "Python 3",
   "language": "python",
   "name": "python3"
  },
  "language_info": {
   "codemirror_mode": {
    "name": "ipython",
    "version": 3
   },
   "file_extension": ".py",
   "mimetype": "text/x-python",
   "name": "python",
   "nbconvert_exporter": "python",
   "pygments_lexer": "ipython3",
   "version": "3.8.0"
  }
 },
 "nbformat": 4,
 "nbformat_minor": 5
}
