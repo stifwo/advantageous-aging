{
 "cells": [
  {
   "cell_type": "code",
   "execution_count": 1,
   "metadata": {},
   "outputs": [],
   "source": [
    "import numpy as np\n",
    "import matplotlib.pyplot as plt\n",
    "import math\n",
    "import string\n",
    "import operator"
   ]
  },
  {
   "cell_type": "markdown",
   "metadata": {},
   "source": [
    "Obtaining Frontinella data\n",
    "Least squares fitting"
   ]
  },
  {
   "cell_type": "markdown",
   "metadata": {},
   "source": [
    "# Figure 1 in paper\n",
    "\n",
    "### Survivorship curves for mutant in the wild and in the laboratory, and hypothetical wild type in the wild"
   ]
  },
  {
   "cell_type": "code",
   "execution_count": 158,
   "metadata": {},
   "outputs": [
    {
     "name": "stdout",
     "output_type": "stream",
     "text": [
      "Mean number of mutant individuals in captvity left at Tmax_C:  6.22\n",
      "Mean number of mutant individuals left at Tmax_W:  17.63\n",
      "Mean number of wildtype individuals left at Tmax_WT:  17.08\n"
     ]
    },
    {
     "ename": "NameError",
     "evalue": "name 'std_wt' is not defined",
     "output_type": "error",
     "traceback": [
      "\u001b[0;31m---------------------------------------------------------------------------\u001b[0m",
      "\u001b[0;31mNameError\u001b[0m                                 Traceback (most recent call last)",
      "\u001b[0;32m<ipython-input-158-940e5a11c6a5>\u001b[0m in \u001b[0;36m<module>\u001b[0;34m\u001b[0m\n\u001b[1;32m     90\u001b[0m \u001b[0max\u001b[0m\u001b[0;34m.\u001b[0m\u001b[0mplot\u001b[0m\u001b[0;34m(\u001b[0m\u001b[0mC2\u001b[0m\u001b[0;34m,\u001b[0m\u001b[0mmean_mut_W\u001b[0m\u001b[0;34m,\u001b[0m\u001b[0;34m'b-'\u001b[0m\u001b[0;34m)\u001b[0m\u001b[0;34m\u001b[0m\u001b[0;34m\u001b[0m\u001b[0m\n\u001b[1;32m     91\u001b[0m \u001b[0;31m#plt.plot(C3,mean_wt,'g-')\u001b[0m\u001b[0;34m\u001b[0m\u001b[0;34m\u001b[0m\u001b[0;34m\u001b[0m\u001b[0m\n\u001b[0;32m---> 92\u001b[0;31m \u001b[0max\u001b[0m\u001b[0;34m.\u001b[0m\u001b[0mfill_between\u001b[0m\u001b[0;34m(\u001b[0m\u001b[0mrange\u001b[0m\u001b[0;34m(\u001b[0m\u001b[0mTmax_WT\u001b[0m\u001b[0;34m)\u001b[0m\u001b[0;34m,\u001b[0m \u001b[0mmean_hyp_wt\u001b[0m\u001b[0;34m-\u001b[0m\u001b[0;36m3.0\u001b[0m\u001b[0;34m*\u001b[0m\u001b[0mstd_wt\u001b[0m\u001b[0;34m,\u001b[0m \u001b[0mmean_hyp_wt\u001b[0m\u001b[0;34m+\u001b[0m\u001b[0;36m3.0\u001b[0m\u001b[0;34m*\u001b[0m\u001b[0mstd_hyp_wt\u001b[0m\u001b[0;34m,\u001b[0m \u001b[0mcolor\u001b[0m \u001b[0;34m=\u001b[0m \u001b[0;34m'lightblue'\u001b[0m\u001b[0;34m,\u001b[0m \u001b[0malpha\u001b[0m \u001b[0;34m=\u001b[0m \u001b[0;36m0.5\u001b[0m\u001b[0;34m)\u001b[0m\u001b[0;34m;\u001b[0m\u001b[0;34m\u001b[0m\u001b[0;34m\u001b[0m\u001b[0m\n\u001b[0m\u001b[1;32m     93\u001b[0m \u001b[0;34m\u001b[0m\u001b[0m\n\u001b[1;32m     94\u001b[0m \u001b[0;31m#Data extracted from Austad (1989)\u001b[0m\u001b[0;34m\u001b[0m\u001b[0;34m\u001b[0m\u001b[0;34m\u001b[0m\u001b[0m\n",
      "\u001b[0;31mNameError\u001b[0m: name 'std_wt' is not defined"
     ]
    },
    {
     "data": {
      "image/png": "[encoded data removed]",
      "text/plain": [
       "<Figure size 432x432 with 1 Axes>"
      ]
     },
     "metadata": {
      "needs_background": "light"
     },
     "output_type": "display_data"
    }
   ],
   "source": [
    "#Calculating survivorship curves for mutant captive Frontinella, mutant wild Frontinella  + stipulated hypothetical wildtype Frontinella\n",
    "\n",
    "# Maximal lifespans (denoted as t_m in the paper)\n",
    "Tmax_C = 202 #217\n",
    "Tmax_W = 100\n",
    "Tmax_WT = 100\n",
    "\n",
    "nind = 1000 # number of individuals in the initial cohort\n",
    "nrepeats = 100 #number of time the cohort model is run\n",
    "\n",
    "# alpha and kappa were found by previous simple least-squares fitting\n",
    "alpha = 0.000222 \n",
    "kappa = 0.033 \n",
    "\n",
    "# These two mortality risk constants were found by previous simple least-squares fitting (see paper for details)\n",
    "p_wt_wt = 0.04015625 # p_(t) is denoted as h_(t) in the paper\n",
    "p_wt_mut = 0.04015625 \n",
    "\n",
    "epsilon = 0.04 \n",
    "\n",
    "\n",
    "# Cohort survivorship in the protected environment\n",
    "mut_C = np.zeros((nrepeats,Tmax_C),dtype = int)\n",
    "for k in range(nrepeats):\n",
    "    s = np.ones((Tmax_C,nind),dtype = int); \n",
    "    for j in range(1,Tmax_C):\n",
    "        for i in range(nind):\n",
    "            ran = np.random.rand(1)\n",
    "            if s[j-1,i] == 1:\n",
    "                if ran < alpha*(((1+kappa)**(j+1))-1):\n",
    "                    s[j,i] = 0\n",
    "            if s[j-1,i] == 0:\n",
    "                s[j,i] = 0\n",
    "    mut_C[k,:] = np.sum(s, axis = 1)\n",
    "\n",
    "mean_mut_C = np.mean(mut_C,axis = 0)\n",
    "\n",
    "# Cohort survivorship mutant in the wild\n",
    "mut_W = np.zeros((nrepeats,Tmax_W),dtype = int)\n",
    "for k in range(nrepeats):\n",
    "    s = np.ones((Tmax_W,nind),dtype = int); \n",
    "    for j in range(1,Tmax_W):\n",
    "        for i in range(nind):\n",
    "            ran = np.random.rand(1)\n",
    "            if s[j-1,i] == 1:\n",
    "                if ran < (1-epsilon)*p_wt_mut + alpha*(((1+kappa)**(j+1))-1):\n",
    "                    s[j,i] = 0\n",
    "            if s[j-1,i] == 0:\n",
    "                s[j,i] = 0\n",
    "    mut_W[k,:] = np.sum(s, axis = 1)\n",
    "mean_mut_W = np.mean(mut_W,axis = 0)\n",
    "\n",
    "# Cohort survivorship for hypothetical wildtype based on mutant parameter values\n",
    "# with constant p_wt found by least squares fitting\n",
    "hyp_wt = np.zeros((nrepeats,Tmax_WT),dtype = int); \n",
    "for k in range(0,nrepeats):\n",
    "    s = np.ones((Tmax_WT,nind),dtype = int); \n",
    "    for j in range(1,Tmax_WT):\n",
    "        for i in range(nind):\n",
    "            ran = np.random.rand(1)\n",
    "            if (s[j-1,i] == 1):\n",
    "                if ran < p_wt_wt:\n",
    "                    s[j,i] = 0\n",
    "            if (s[j-1,i] == 0):\n",
    "                s[j,i] = 0\n",
    "    hyp_wt[k,:] = np.sum(s, axis = 1) \n",
    "mean_hyp_wt = np.mean(hyp_wt,axis = 0)\n",
    "\n",
    "# Recording\n",
    "print('Mean number of mutant individuals in captvity left at Tmax_C: ',mean_mut_C[Tmax_C-1])\n",
    "print('Mean number of mutant individuals left at Tmax_W: ',mean_mut_W[Tmax_W-1])\n",
    "print('Mean number of wildtype individuals left at Tmax_WT: ',mean_hyp_wt[Tmax_WT-1])\n",
    "\n",
    "# Normalize + calculate stds\n",
    "mean_mut_C = mean_mut_C*(1/nind)\n",
    "std_mut_C = np.std(mut_C*(1/nind),axis = 0)\n",
    "mean_mut_W = mean_mut_W*(1/nind)\n",
    "std_mut_W = np.std(mut_W*(1/nind),axis = 0)\n",
    "mean_hyp_wt = mean_hyp_wt*(1/nind)\n",
    "std_hyp_wt = np.std(hyp_wt*(1/nind),axis = 0)\n",
    "\n",
    "# Plotting\n",
    "C1 = np.arange(0,Tmax_C,1,dtype = int)\n",
    "C2 = np.arange(0,Tmax_W,1,dtype = int)\n",
    "C3 = np.arange(0,Tmax_WT,1,dtype = int)\n",
    "\n",
    "fig1,ax = plt.subplots(figsize=(6,6))\n",
    "ax.plot(C1,mean_mut_C,'r-')\n",
    "ax.fill_between(range(Tmax_C), mean_mut_C-3.0*std_mut_C, mean_mut_C+3.0*std_mut_C, color='pink', alpha = 0.5)\n",
    "ax.plot(C2,mean_mut_W,'b-')\n",
    "#plt.plot(C3,mean_wt,'g-')\n",
    "ax.fill_between(range(Tmax_WT), mean_hyp_wt-3.0*std_wt, mean_hyp_wt+3.0*std_hyp_wt, color = 'lightblue', alpha = 0.5);\n",
    "\n",
    "#Data extracted from Austad (1989)\n",
    "#Laboratory\n",
    "#plt.plot(0, 1.0,'o')\n",
    "#plt.plot(30*217/65, 0.8895,'ro')\n",
    "#plt.plot(40*217/65, 0.592,'ro')\n",
    "#plt.plot(51*217/65, 0.174,'ro')\n",
    "#plt.plot(60*217/65, 0.0239,'ro')\n",
    "\n",
    "X_C = [0,30*217/65,40*217/65,51*217/65,60*217/65]\n",
    "Y_C = [1.0,0.8895,0.592,0.174,0.0239]\n",
    "ax.plot(X_C,Y_C,'ro',markersize=4)\n",
    "\n",
    "X_W = [0, 5*100/30, 10*100/30,15*100/30,20*100/30,30*100/30]\n",
    "Y_W = [1.0,0.5498,0.268,0.148,0.05,0.0]\n",
    "ax.plot(X_W,Y_W,'bo',markersize=4)\n",
    "\n",
    "#Data extracted from Austad (1989)\n",
    "#Wild\n",
    "#plt.plot(0, 1.0,'bo')\n",
    "#plt.plot(5*100/30, 0.5498,'bo')\n",
    "#plt.plot(10*100/30, 0.268,'bo')\n",
    "#plt.plot(15*100/30, 0.148,'bo')\n",
    "#plt.plot(20*100/30, 0.05,'bo')\n",
    "#plt.plot(25*100/30, 0.0016,'bo')\n",
    "#plt.plot(30*100/30, 0.0,'bo')\n",
    "\n",
    "afont = {'fontname':'Arial'}\n",
    "ax.set_xlabel(\"Time\",fontsize = 12,**afont)\n",
    "ax.set_ylabel(\"Cohort survivorship\",fontsize = 12,**afont);\n",
    "\n",
    "x_size = 10\n",
    "plt.rc('xtick',labelsize=x_size)\n",
    "y_size = 10\n",
    "plt.rc('ytick',labelsize=y_size)\n",
    "\n",
    "fig1.tight_layout()\n",
    "\n",
    "figure = plt.gcf()\n",
    "figure.set_size_inches(3.42, 3.42)\n",
    "\n",
    "plt.savefig('RA_PNAS_fig1_Frontinella.pdf', dpi = 1200, bbox_inches=\"tight\");"
   ]
  },
  {
   "cell_type": "code",
   "execution_count": null,
   "metadata": {},
   "outputs": [],
   "source": [
    "#rng = np.random.default_rng() # Random number generator\n",
    "# lottery_tickets = cohort * rng.random(number_of_individuals)\n"
   ]
  },
  {
   "cell_type": "code",
   "execution_count": 65,
   "metadata": {},
   "outputs": [],
   "source": [
    "def darwinian_lottery(cohort, hazard_rate_parameters):\n",
    "    number_of_individuals = cohort.shape[0] \n",
    "    hazard = hazard_rate(**hazard_rate_parameters)\n",
    "    lottery_tickets = cohort * np.random.random_sample(number_of_individuals)\n",
    "    survivors = np.piecewise(lottery_tickets, [lottery_tickets <= hazard, lottery_tickets > hazard], [0, 1])\n",
    "    return survivors\n",
    "    "
   ]
  },
  {
   "cell_type": "code",
   "execution_count": 66,
   "metadata": {},
   "outputs": [],
   "source": [
    "def cohort_survivorship_model(cohort_survivorship, minimum_population_threshold, hazard_rate_parameters):\n",
    "    \n",
    "    # On first run, make 1D array into 2D\n",
    "    if len(cohort_survivorship.shape) == 1:\n",
    "        cohort_survivorship = cohort_survivorship.reshape(1, -1)\n",
    "    \n",
    "    time = cohort_survivorship.shape[0] # Time variable t\n",
    "    hazard_rate_parameters[\"time\"] = time\n",
    "    \n",
    "    current_cohort = cohort_survivorship[-1]\n",
    "    number_of_survivors = sum(current_cohort)\n",
    "    \n",
    "    if number_of_survivors < minimum_population_threshold: # and time  >= time_max\n",
    "        return cohort_survivorship\n",
    "    survivors = darwinian_lottery(current_cohort, hazard_rate_parameters)\n",
    "    cohort_survivorship = np.append(cohort_survivorship, survivors.reshape(1, -1), axis=0)        \n",
    "    return cohort_survivorship_model(cohort_survivorship, minimum_population_threshold, hazard_rate_parameters)"
   ]
  },
  {
   "cell_type": "code",
   "execution_count": 67,
   "metadata": {},
   "outputs": [],
   "source": [
    "def hazard_rate(population, epsilon, hazard_rate_wild_type, alpha, kappa, time):    \n",
    "    if population == \"mutant wild\":\n",
    "        return (1 - epsilon) * hazard_rate_wild_type + alpha * (((1 + kappa)**(time + 1)) - 1)\n",
    "    elif population == \"mutant captivity\":\n",
    "        return alpha * (((1 + kappa)**(time + 1)) - 1)\n",
    "    elif population == \"hypothetical wild type\":\n",
    "        return hazard_rate_wild_type\n",
    "    else:\n",
    "        raise ValueError(\"Population argument must be set to either 'mutant wild', 'mutant captivity' or 'hypothetical wild type'.\")"
   ]
  },
  {
   "cell_type": "markdown",
   "metadata": {},
   "source": [
    "Calculate survivorship for the three populations"
   ]
  },
  {
   "cell_type": "code",
   "execution_count": 147,
   "metadata": {},
   "outputs": [],
   "source": [
    "def run_simulation(number_of_repetitions, cohort_survivorship, minimum_population_threshold, hazard_rate_parameters, t_max):\n",
    "    results = []\n",
    "    for _ in range(number_of_repetitions):\n",
    "        n_survivors_per_timestep = np.sum(cohort_survivorship_model(cohort_survivorship, minimum_population_threshold, hazard_rate_parameters), axis=1, dtype=int)\n",
    "        results.append(n_survivors_per_timestep)\n",
    "    \n",
    "    for repetition in results:\n",
    "        if len(repetition) < t_max:\n",
    "            raise Exception(\"Hva gjør vi når dette skjer?\")\n",
    "    \n",
    "    return np.array([repetition[:t_max] for repetition in results])\n"
   ]
  },
  {
   "cell_type": "code",
   "execution_count": 148,
   "metadata": {
    "tags": []
   },
   "outputs": [],
   "source": [
    "MUTANT_CAP = \"mutant captivity\"\n",
    "MUTANT_WILD = \"mutant wild\"\n",
    "HYP_WILD_TYPE = \"hypothetical wild type\"\n",
    "\n",
    "number_of_individuals = 1000\n",
    "cohort_survivorship = np.ones(number_of_individuals)\n",
    "hazard_rate_wild_type = 0.04015625 # Hvordan kommet frem til dette tallet? 0.0385/(1-epsilon) = 0.04010416667\n",
    "\n",
    "alpha = 0.000222 \n",
    "kappa = 0.033 \n",
    "epsilon = 0.04\n",
    "minimum_population_threshold = 1\n",
    "number_of_repetitions = 100\n",
    "\n",
    "# hazard_rate_parameters = dict(population=population, epsilon=epsilon, hazard_rate_wild_type=hazard_rate_wild_type, alpha=alpha, kappa=kappa)\n",
    "hazard_rate_parameters = dict(epsilon=epsilon, hazard_rate_wild_type=hazard_rate_wild_type, alpha=alpha, kappa=kappa)"
   ]
  },
  {
   "cell_type": "code",
   "execution_count": 149,
   "metadata": {},
   "outputs": [],
   "source": [
    "population = MUTANT_CAP\n",
    "hazard_rate_parameters[\"population\"] = population\n",
    "t_max = 201\n",
    "\n",
    "mutant_captivity_survivorship = run_simulation(number_of_repetitions, cohort_survivorship, minimum_population_threshold, hazard_rate_parameters, t_max)"
   ]
  },
  {
   "cell_type": "code",
   "execution_count": 150,
   "metadata": {},
   "outputs": [],
   "source": [
    "population = MUTANT_WILD\n",
    "hazard_rate_parameters[\"population\"] = population\n",
    "t_max = 100\n",
    "\n",
    "mutant_wild_survivorship = run_simulation(number_of_repetitions, cohort_survivorship, minimum_population_threshold, hazard_rate_parameters, t_max)"
   ]
  },
  {
   "cell_type": "code",
   "execution_count": 151,
   "metadata": {},
   "outputs": [],
   "source": [
    "population = HYP_WILD_TYPE\n",
    "hazard_rate_parameters[\"population\"] = population\n",
    "t_max = 100\n",
    "\n",
    "hypothetical_wild_type_survivorship = run_simulation(number_of_repetitions, cohort_survivorship, minimum_population_threshold, hazard_rate_parameters, t_max)"
   ]
  },
  {
   "cell_type": "code",
   "execution_count": 113,
   "metadata": {
    "tags": []
   },
   "outputs": [
    {
     "data": {
      "text/plain": [
       "100.0"
      ]
     },
     "execution_count": 113,
     "metadata": {},
     "output_type": "execute_result"
    }
   ],
   "source": [
    "np.mean([len(iteration) for iteration in mutant_wild_survivorship])"
   ]
  },
  {
   "cell_type": "code",
   "execution_count": 152,
   "metadata": {},
   "outputs": [],
   "source": [
    "mean_mutant_captivity_survivorship = np.mean(mutant_captivity_survivorship, axis=0)\n",
    "mean_mutant_wild_survivorship = np.mean(mutant_wild_survivorship, axis=0)\n",
    "mean_hyp_wild_type_survivorship = np.mean(hypothetical_wild_type_survivorship, axis=0)"
   ]
  },
  {
   "cell_type": "code",
   "execution_count": 153,
   "metadata": {},
   "outputs": [
    {
     "data": {
      "text/plain": [
       "array([[1000, 1000, 1000, ...,   13,   12,   11],\n",
       "       [1000, 1000, 1000, ...,   11,   11,    9],\n",
       "       [1000, 1000, 1000, ...,    6,    5,    4],\n",
       "       ...,\n",
       "       [1000, 1000, 1000, ...,   13,   12,   12],\n",
       "       [1000, 1000, 1000, ...,    8,    7,    5],\n",
       "       [1000, 1000, 1000, ...,    7,    6,    5]])"
      ]
     },
     "execution_count": 153,
     "metadata": {},
     "output_type": "execute_result"
    }
   ],
   "source": [
    "mutant_captivity_survivorship"
   ]
  },
  {
   "cell_type": "code",
   "execution_count": 157,
   "metadata": {},
   "outputs": [
    {
     "data": {
      "text/plain": [
       "array([1.     , 0.96094, 0.9245 , 0.8884 , 0.8544 , 0.82209, 0.79071,\n",
       "       0.76039, 0.73136, 0.70351, 0.67667, 0.65068, 0.62541, 0.6008 ,\n",
       "       0.57674, 0.55459, 0.5339 , 0.51287, 0.49322, 0.47419, 0.45617,\n",
       "       0.43745, 0.42056, 0.40387, 0.3883 , 0.37316, 0.35879, 0.34438,\n",
       "       0.33117, 0.31859, 0.30668, 0.29485, 0.28331, 0.27205, 0.26147,\n",
       "       0.25119, 0.24158, 0.23217, 0.22288, 0.21426, 0.20637, 0.19826,\n",
       "       0.19055, 0.18327, 0.17589, 0.16909, 0.16256, 0.15647, 0.15006,\n",
       "       0.14389, 0.13814, 0.13229, 0.12706, 0.12213, 0.11722, 0.11248,\n",
       "       0.1083 , 0.10412, 0.1    , 0.09597, 0.09233, 0.08877, 0.0851 ,\n",
       "       0.08175, 0.07874, 0.07562, 0.07275, 0.06977, 0.06708, 0.06438,\n",
       "       0.06201, 0.05947, 0.0575 , 0.05487, 0.05265, 0.05046, 0.04841,\n",
       "       0.04627, 0.04431, 0.04223, 0.04049, 0.03892, 0.03736, 0.03573,\n",
       "       0.0345 , 0.03305, 0.03173, 0.0306 , 0.02946, 0.02812, 0.02685,\n",
       "       0.02582, 0.02447, 0.02336, 0.02237, 0.02143, 0.02051, 0.01964,\n",
       "       0.01872, 0.01793])"
      ]
     },
     "execution_count": 157,
     "metadata": {},
     "output_type": "execute_result"
    }
   ],
   "source": [
    "mean_mutant_wild_survivorship"
   ]
  },
  {
   "cell_type": "code",
   "execution_count": 154,
   "metadata": {},
   "outputs": [],
   "source": [
    "mean_mutant_captivity_survivorship = mean_mutant_captivity_survivorship * (1 / number_of_individuals)\n",
    "std_mutant_captivity_survivorship = np.std(mutant_captivity_survivorship * (1 / number_of_individuals), axis=0)\n",
    "\n",
    "mean_mutant_wild_survivorship = mean_mutant_wild_survivorship * (1 / number_of_individuals)\n",
    "std_mutant_wild_survivorship = np.std(mutant_wild_survivorship * (1 / number_of_individuals), axis=0)\n",
    "\n",
    "mean_hyp_wild_type_survivorship = mean_hyp_wild_type_survivorship * (1 / number_of_individuals)\n",
    "std_hyp_wild_type_survivorship = np.std(hypothetical_wild_type_survivorship * (1 / number_of_individuals), axis=0)"
   ]
  },
  {
   "cell_type": "code",
   "execution_count": 159,
   "metadata": {},
   "outputs": [
    {
     "data": {
      "image/png": "[encoded data removed]",
      "text/plain": [
       "<Figure size 246.24x246.24 with 1 Axes>"
      ]
     },
     "metadata": {
      "needs_background": "light"
     },
     "output_type": "display_data"
    }
   ],
   "source": [
    "# Plotting\n",
    "Tmax_C = 201\n",
    "Tmax_W = 100\n",
    "Tmax_WT = 100\n",
    "\n",
    "C1 = np.arange(0, Tmax_C, 1, dtype=int)\n",
    "C2 = np.arange(0, Tmax_W, 1, dtype=int)\n",
    "C3 = np.arange(0, Tmax_WT, 1, dtype=int)\n",
    "\n",
    "fig1, ax = plt.subplots(figsize=(6, 6))\n",
    "\n",
    "ax.plot(C1, mean_mutant_captivity_survivorship, 'r-')\n",
    "ax.fill_between(range(Tmax_C), \n",
    "                mean_mutant_captivity_survivorship - 3.0 * std_mutant_captivity_survivorship, \n",
    "                mean_mutant_captivity_survivorship + 3.0 * std_mutant_captivity_survivorship, \n",
    "                color='pink', \n",
    "                alpha=0.5)\n",
    "\n",
    "ax.plot(C2, mean_mutant_wild_survivorship, 'b-')\n",
    "ax.fill_between(range(Tmax_WT), \n",
    "                mean_hypothetical_wild_type_survivorship - 3.0 * std_hyp_wild_type_survivorship, \n",
    "                mean_hypothetical_wild_type_survivorship + 3.0 * std_hyp_wild_type_survivorship, \n",
    "                color='lightblue', \n",
    "                alpha=0.5)\n",
    "\n",
    "#Data extracted from Austad (1989)\n",
    "#Laboratory\n",
    "#plt.plot(0, 1.0,'o')\n",
    "#plt.plot(30*217/65, 0.8895,'ro')\n",
    "#plt.plot(40*217/65, 0.592,'ro')\n",
    "#plt.plot(51*217/65, 0.174,'ro')\n",
    "#plt.plot(60*217/65, 0.0239,'ro')\n",
    "\n",
    "X_C = [0,30*217/65,40*217/65,51*217/65,60*217/65]\n",
    "Y_C = [1.0,0.8895,0.592,0.174,0.0239]\n",
    "ax.plot(X_C,Y_C,'ro',markersize=4)\n",
    "\n",
    "X_W = [0, 5*100/30, 10*100/30,15*100/30,20*100/30,30*100/30]\n",
    "Y_W = [1.0,0.5498,0.268,0.148,0.05,0.0]\n",
    "ax.plot(X_W,Y_W,'bo',markersize=4)\n",
    "\n",
    "#Data extracted from Austad (1989)\n",
    "#Wild\n",
    "#plt.plot(0, 1.0,'bo')\n",
    "#plt.plot(5*100/30, 0.5498,'bo')\n",
    "#plt.plot(10*100/30, 0.268,'bo')\n",
    "#plt.plot(15*100/30, 0.148,'bo')\n",
    "#plt.plot(20*100/30, 0.05,'bo')\n",
    "#plt.plot(25*100/30, 0.0016,'bo')\n",
    "#plt.plot(30*100/30, 0.0,'bo')\n",
    "\n",
    "afont = {'fontname':'Arial'}\n",
    "ax.set_xlabel(\"Time\",fontsize = 12,**afont)\n",
    "ax.set_ylabel(\"Cohort survivorship\",fontsize = 12,**afont);\n",
    "\n",
    "x_size = 10\n",
    "plt.rc('xtick',labelsize=x_size)\n",
    "y_size = 10\n",
    "plt.rc('ytick',labelsize=y_size)\n",
    "\n",
    "fig1.tight_layout()\n",
    "\n",
    "figure = plt.gcf()\n",
    "figure.set_size_inches(3.42, 3.42)\n",
    "\n",
    "plt.savefig('RA_PNAS_fig1_Frontinella.pdf', dpi = 1200, bbox_inches=\"tight\");"
   ]
  },
  {
   "cell_type": "code",
   "execution_count": 160,
   "metadata": {},
   "outputs": [
    {
     "data": {
      "text/plain": [
       "array([1000.  ,  959.8 ,  921.51,  884.95,  849.89,  816.02,  783.19,\n",
       "        751.78,  721.27,  691.32,  663.87,  637.26,  611.8 ,  587.59,\n",
       "        564.23,  541.56,  519.57,  499.34,  479.22,  460.4 ,  441.1 ,\n",
       "        422.75,  405.02,  389.19,  373.65,  359.18,  345.09,  331.03,\n",
       "        317.59,  304.5 ,  292.14,  280.25,  269.18,  258.41,  247.55,\n",
       "        238.24,  228.35,  218.86,  210.06,  201.74,  193.14,  185.72,\n",
       "        178.03,  170.78,  163.36,  156.76,  150.13,  144.35,  138.54,\n",
       "        133.1 ,  127.8 ,  122.69,  118.04,  113.32,  108.91,  104.42,\n",
       "        100.2 ,   96.46,   92.7 ,   88.84,   85.43,   81.8 ,   78.72,\n",
       "         75.38,   72.5 ,   69.36,   66.68,   64.12,   61.66,   59.2 ,\n",
       "         56.79,   54.47,   52.09,   49.83,   47.71,   45.84,   44.21,\n",
       "         42.55,   40.93,   39.32,   37.72,   36.36,   34.93,   33.47,\n",
       "         32.1 ,   30.62,   29.49,   28.37,   27.3 ,   26.26,   25.16,\n",
       "         24.1 ,   23.22,   22.21,   21.38,   20.62,   19.74,   19.06,\n",
       "         18.21,   17.35])"
      ]
     },
     "execution_count": 160,
     "metadata": {},
     "output_type": "execute_result"
    }
   ],
   "source": [
    "mean_hypothetical_wild_type_survivorship"
   ]
  },
  {
   "cell_type": "code",
   "execution_count": null,
   "metadata": {},
   "outputs": [],
   "source": []
  },
  {
   "cell_type": "code",
   "execution_count": null,
   "metadata": {},
   "outputs": [],
   "source": []
  },
  {
   "cell_type": "code",
   "execution_count": null,
   "metadata": {},
   "outputs": [],
   "source": [
    "np.apply_along_axis(cohort_model,1,x,counter)\n",
    "c = np.sum(arr,axis=1)\n",
    "v = np.delete(np.add(np.where(c < ind_threshold),1),-1)\n",
    "c_split = np.split(c,v)\n",
    "for i in range(nrepeats):\n",
    "    hyp_wt[i,0:len(c_split[i])] = c_split[i]\n"
   ]
  },
  {
   "cell_type": "code",
   "execution_count": 87,
   "metadata": {},
   "outputs": [],
   "source": [
    "#Tentative start on some more polished code that gets rid of the three for loops above\n",
    "\n",
    "nind = 1000\n",
    "h_wt = 0.04015625\n",
    "ind_threshold = 5\n",
    "nrepeats = 5\n",
    "num_timepoints = 200\n",
    "\n",
    "def cohort_model(x,counter):\n",
    "    if sum(x) < ind_threshold: \n",
    "        return x\n",
    "    else:\n",
    "        counter = counter + 1\n",
    "        y = x*np.random.random_sample(nind)\n",
    "        z = np.piecewise(y, [y <= h_wt, y > h_wt], [0, 1])\n",
    "        if counter == 1:\n",
    "            arr.append(np.ones(nind))\n",
    "        arr.append(z)\n",
    "        return cohort_model(z,counter)"
   ]
  },
  {
   "cell_type": "code",
   "execution_count": 88,
   "metadata": {},
   "outputs": [],
   "source": [
    "#Here we go..\n",
    "counter = 0\n",
    "arr = []\n",
    "x = np.ones((nrepeats,nind),dtype = int)\n",
    "hyp_wt = np.zeros((nrepeats,num_timepoints),dtype = int)\n",
    "\n"
   ]
  },
  {
   "cell_type": "code",
   "execution_count": 98,
   "metadata": {},
   "outputs": [
    {
     "data": {
      "text/plain": [
       "5"
      ]
     },
     "execution_count": 98,
     "metadata": {},
     "output_type": "execute_result"
    }
   ],
   "source": [
    "len(results)"
   ]
  },
  {
   "cell_type": "code",
   "execution_count": 89,
   "metadata": {},
   "outputs": [
    {
     "data": {
      "text/plain": [
       "[]"
      ]
     },
     "execution_count": 89,
     "metadata": {},
     "output_type": "execute_result"
    }
   ],
   "source": [
    "arr\n"
   ]
  },
  {
   "cell_type": "code",
   "execution_count": null,
   "metadata": {},
   "outputs": [],
   "source": []
  },
  {
   "cell_type": "code",
   "execution_count": 90,
   "metadata": {},
   "outputs": [],
   "source": [
    "np.apply_along_axis(cohort_model,1,x,counter)\n",
    "c = np.sum(arr,axis=1)\n",
    "v = np.delete(np.add(np.where(c < ind_threshold),1),-1)\n",
    "c_split = np.split(c,v)\n",
    "for i in range(nrepeats):\n",
    "    hyp_wt[i,0:len(c_split[i])] = c_split[i]\n"
   ]
  },
  {
   "cell_type": "code",
   "execution_count": null,
   "metadata": {},
   "outputs": [],
   "source": []
  },
  {
   "cell_type": "code",
   "execution_count": null,
   "metadata": {},
   "outputs": [],
   "source": []
  },
  {
   "cell_type": "markdown",
   "metadata": {},
   "source": [
    "# Figure 2 in paper\n",
    "\n",
    "### Temporal difference in number of survivors between hypothetical wild type and mutant "
   ]
  },
  {
   "cell_type": "code",
   "execution_count": null,
   "metadata": {},
   "outputs": [],
   "source": [
    "#Calculates the difference in number of survivors between hypothetical wild type and mutant across the given time span \n",
    "\n",
    "nind = 1000\n",
    "nrepeats = 1000\n",
    "Tmax = 100\n",
    "\n",
    "kappa = 0.033\n",
    "alpha = 0.000222\n",
    "\n",
    "epsilon = np.array([0.01, 0.02, 0.03, 0.04])\n",
    "p_wt = np.array([0.03893939, 0.03933673, 0.039742268,0.04015625]) # based on previous least-squares fitting: (1-epsilon)p_wt = 0.0385499\n",
    "\n",
    "mut_wild_all = np.zeros((4*nrepeats,Tmax))\n",
    "hyp_wt_all = np.zeros((4*nrepeats,Tmax))\n",
    "diff_mutwt = np.zeros((nrepeats,Tmax))\n",
    "\n",
    "counter1 = 0\n",
    "counter2 = 0\n",
    "\n",
    "C = np.arange(0,Tmax,1,dtype = int)\n",
    "fig1,ax = plt.subplots(figsize=(6,6))\n",
    "\n",
    "for m in range(4):\n",
    "    mut_wild = np.zeros((nrepeats,Tmax),dtype = int)\n",
    "    hyp_wt = np.zeros((nrepeats,Tmax),dtype = int)\n",
    "    for k in range(nrepeats):\n",
    "        counter1 = counter1 + 1\n",
    "        counter2 = counter2 + 1\n",
    "        s1 = np.ones((Tmax,nind),dtype = int)\n",
    "        s2 = np.ones((Tmax,nind),dtype = int); \n",
    "        for j in range(1,Tmax):\n",
    "            for i in range(nind):\n",
    "                ran = np.random.rand(1)\n",
    "                if s1[j-1,i] == 1:\n",
    "                    if ran < (1-epsilon[m])*p_wt[m] + alpha*(((1+kappa)**(j+1))-1):\n",
    "                        s1[j,i] = 0\n",
    "                if s1[j-1,i] == 0:\n",
    "                    s1[j,i] = 0\n",
    "                \n",
    "                if s2[j-1,i] == 1:\n",
    "                    if ran < p_wt[m]:\n",
    "                        s2[j,i] = 0\n",
    "                if s2[j-1,i] == 0:\n",
    "                    s2[j,i] = 0\n",
    "        \n",
    "        mut_wild[k,:] = np.sum(s1, axis = 1)\n",
    "        mut_wild_all[counter1-1,:] = np.sum(s1, axis = 1) # to be used for making Figure 3 (fitness calculations)\n",
    "    \n",
    "        hyp_wt[k,:] = np.sum(s2, axis = 1)\n",
    "        hyp_wt_all[counter2-1,:] = np.sum(s2, axis = 1) # to be used for making Figure 3 (fitness calculations)\n",
    "    \n",
    "        diff_mutwt[k,:] = mut_wild[k,:] - hyp_wt[k,:]\n",
    "                \n",
    "    \n",
    "    #Calculate the difference in number of survivors between hypothetical wild type and mutant across the time span\n",
    "    mean_diff = np.mean(diff_mutwt,axis = 0)\n",
    "    std_diff = np.std(diff_mutwt,axis =0 )\n",
    "   \n",
    "    # Plotting\n",
    "    if m==0:\n",
    "        l1, = ax.plot(C,mean_diff)\n",
    "        ax.fill_between(range(Tmax), mean_diff-3.0*std_diff/np.sqrt(nrepeats), mean_diff+3.0*std_diff/np.sqrt(nrepeats), alpha = 0.5)\n",
    "    if m==1:\n",
    "        l2, = ax.plot(C,mean_diff)\n",
    "        ax.fill_between(range(Tmax), mean_diff-3.0*std_diff/np.sqrt(nrepeats), mean_diff+3.0*std_diff/np.sqrt(nrepeats), alpha = 0.5)\n",
    "    if m==2:\n",
    "        l3, = ax.plot(C,mean_diff)\n",
    "        ax.fill_between(range(Tmax), mean_diff-3.0*std_diff/np.sqrt(nrepeats), mean_diff+3.0*std_diff/np.sqrt(nrepeats), alpha = 0.5)\n",
    "    if m==3:\n",
    "        l4, = ax.plot(C,mean_diff)\n",
    "        ax.fill_between(range(Tmax), mean_diff-3.0*std_diff/np.sqrt(nrepeats), mean_diff+3.0*std_diff/np.sqrt(nrepeats), alpha = 0.5)\n",
    "\n",
    "ax.legend((l1,l2,l3,l4),('$\\epsilon$=0.01', '$\\epsilon$=0.02', '$\\epsilon$=0.03','$\\epsilon$=0.04'));\n",
    "afont = {'fontname':'Arial'}\n",
    "ax.set_xlabel(\"Time\",fontsize = 12,**afont);\n",
    "ax.set_ylabel(\"# of mutant - wild type individuals\",fontsize = 12,**afont);\n",
    "\n",
    "x_size = 10\n",
    "plt.rc('xtick',labelsize=x_size)\n",
    "y_size = 10\n",
    "plt.rc('ytick',labelsize=y_size)\n",
    "\n",
    "fig1.tight_layout()\n",
    "\n",
    "figure = plt.gcf()\n",
    "figure.set_size_inches(3.42, 3.42)\n",
    "plt.savefig('RA_PNAS_fig2_Frontinella.pdf', dpi = 1200, bbox_inches=\"tight\");"
   ]
  },
  {
   "cell_type": "code",
   "execution_count": null,
   "metadata": {},
   "outputs": [],
   "source": [
    "#Calculates the difference in number of survivors between wild type and mutant across the time span \n",
    "# by integrating the areas under the survivirship curves where both mutant and the hypothetical wildtype uses the same ran value \n",
    "\n",
    "from numpy import trapz\n",
    "\n",
    "nind = 1000\n",
    "nrepeats =  1000\n",
    "Tmax = 100\n",
    "\n",
    "kappa = 0.033\n",
    "alpha = 0.000222\n",
    "\n",
    "epsilon = np.array([0, 0.01, 0.02, 0.03, 0.04])\n",
    "p_wt = np.array([0.0385499, 0.03893939, 0.03933673, 0.039742268,0.04015625])\n",
    "\n",
    "\n",
    "area_mut_wild = np.zeros((5,nrepeats))\n",
    "area_hyp_wt = np.zeros((5,nrepeats))\n",
    "for m in range(5):\n",
    "    \n",
    "    mut_wild = np.zeros((nrepeats,Tmax),dtype = int)\n",
    "    hyp_wt = np.zeros((nrepeats,Tmax),dtype = int)\n",
    "    \n",
    "    for k in range(nrepeats):\n",
    "        s1 = np.ones((Tmax,nind),dtype = int)\n",
    "        s2 = np.ones((Tmax,nind),dtype = int) \n",
    "        for j in range(1,Tmax):\n",
    "            for i in range(nind):\n",
    "                ran = np.random.rand(1)\n",
    "                if s1[j-1,i] == 1:\n",
    "                    if ran < (1-epsilon[m])*p_wt[m] + alpha*(((1+kappa)**(j+1))-1):\n",
    "                        s1[j,i] = 0\n",
    "                if s1[j-1,i] == 0:\n",
    "                    s1[j,i] = 0\n",
    "                \n",
    "                if s2[j-1,i] == 1:\n",
    "                    if ran < p_wt[m]:\n",
    "                        s2[j,i] = 0\n",
    "                if s2[j-1,i] == 0:\n",
    "                    s2[j,i] = 0\n",
    "        \n",
    "        # Integrate areas\n",
    "        mut_wild[k,:] = np.sum(s1, axis = 1)\n",
    "        y = mut_wild[k,:]\n",
    "        area_mut_wild[m,k] = trapz(y, dx=1)\n",
    "        \n",
    "    \n",
    "        hyp_wt[k,:] = np.sum(s2, axis = 1)\n",
    "        y = hyp_wt[k,:]\n",
    "        area_hyp_wt[m,k] = trapz(y, dx=1)\n",
    "        \n",
    "        \n",
    "#Calculate the percentage of cases where the mutant has a larger area than the hypothetical wild type\n",
    "Z = np.subtract(area_mut_wild,area_hyp_wt)\n",
    "Y = Z.transpose()\n",
    "G = np.count_nonzero(Y>0,axis=0)\n",
    "R = G*100/nrepeats\n",
    "print('Percentage mutant wins: ',R)\n",
    "print('Number of mutant winning instances:', np.count_nonzero(Y>0,axis=0))        "
   ]
  },
  {
   "cell_type": "markdown",
   "metadata": {},
   "source": [
    "# Figure 3 in paper\n",
    "\n",
    "### r and R0 calculations for wild type and mutant"
   ]
  },
  {
   "cell_type": "code",
   "execution_count": null,
   "metadata": {},
   "outputs": [],
   "source": [
    "# Calculate r and R0 values for wild type and mutant for the four epsilon values\n",
    "# Using H1_mut_all and H1_wt_all calculated in the snippet above with nrepeats_mut = 1000 for three different epsilon values\n",
    "\n",
    "#Taken from: https://scipython.com/book/chapter-8-scipy/examples/solving-the-euler-lotka-equation/\n",
    "from scipy.optimize import brentq\n",
    "x = np.linspace(1, int(Tmax), 1)                                                   \n",
    "def func(r):\n",
    "    return np.sum(f * np.exp(-r * x)) - 1\n",
    "\n",
    "Tmax = 100\n",
    "nind = 1000\n",
    "nrepeats = 1000 \n",
    "\n",
    "# Hypothetical wild type   @@@@@@@@@@@@@@@@@@@@@@@@@@@@@@@@@@@@@@@@@@@@@@@@@@@@@@@@@@@@@@@@@@@@@@@@@\n",
    "\n",
    "# Initializations wild type             \n",
    "R0_wt_const = np.zeros(4*nrepeats)\n",
    "r_wt_const = np.zeros(4*nrepeats)\n",
    "\n",
    "mean_R0_wt_const = np.zeros(4)\n",
    "std_R0_wt_const = np.zeros(4)\n",
    "sem_R0_wt_const = np.zeros(4)\n",
    "mean_r_wt_const = np.zeros(4)\n",
    "std_r_wt_const = np.zeros(4)\n",
    "sem_r_wt_const = np.zeros(4)\n",
    "\n",
    "# Fecundity functions hypothetical wild type\n",
    "m_wt_const = np.zeros((4*nrepeats,Tmax))\n",
    "fert_wt_const = np.zeros((4,Tmax))\n",
    "counter = 0\n",
    "for z in range(4):\n",
    "    fert_wt_const[z,39] = 24.0  #check\n",
    "    fert_wt_const[z,79] = 24.0 \n",
    "    for s in range(nrepeats):\n",
    "        counter = counter + 1\n",
    "        m_wt_const[counter-1,:] = fert_wt_const[z,:]\n",
    "f_wt_const = np.multiply(hyp_wt_all*(1/nind),m_wt_const)\n",
    "\n",
    "# Calculate mean, std and sem for R0 and r for hypothetical wild type\n",
    "for i in range(4*nrepeats):\n",
    "    R0_wt_const[i] = np.sum(f_wt_const[i,:])\n",
    "    \n",
    "    a, b = -2, 8 \n",
    "    f = f_wt_const[i,:]\n",
    "    r = brentq(func, a, b)\n",
    "    r_wt_const[i] = r\n",
    "    \n",
    "\n",
    "# Calculate mean, std and sem for R0 and r for every nrepeats chunk for hypothetical wildtype (for each epsilon value)\n",
    "for k in range(4):\n",
    "    mean_R0_wt_const[k] = np.mean(R0_wt_const[k*nrepeats:k*nrepeats+(nrepeats-1)])\n",
    "    std_R0_wt_const[k] = np.std(R0_wt_const[k*nrepeats:k*nrepeats+(nrepeats-1)])\n",
    "    sem_R0_wt_const[k] = np.std(R0_wt_const[k*nrepeats:k*nrepeats+(nrepeats-1)])/math.sqrt(nrepeats)\n",
    "    mean_r_wt_const[k] = np.mean(r_wt_const[k*nrepeats:k*nrepeats+(nrepeats-1)])\n",
    "    std_r_wt_const[k] = np.std(r_wt_const[k*nrepeats:k*nrepeats+(nrepeats-1)])\n",
    "    sem_r_wt_const[k] = np.std(r_wt_const[k*nrepeats:k*nrepeats+(nrepeats-1)])/math.sqrt(nrepeats)\n",
    "\n",
    "\n",
    "# Mutant @@@@@@@@@@@@@@@@@@@@@@@@@@@@@@@@@@@@@@@@@@@@@@@@@@@@@@@@@@@@@@@@@@@@@@@@@@@@@@@@\n",
    "\n",
    "# Initializations mutant\n",
    "R0_mut_const = np.zeros(4*nrepeats)\n",
    "r_mut_const = np.zeros(4*nrepeats)\n",
    "\n",
    "mean_R0_mut_const = np.zeros(4)\n",
    "std_R0_mut_const = np.zeros(4)\n",
    "sem_R0_mut_const = np.zeros(4)\n",
    "mean_r_mut_const = np.zeros(4)\n",
    "std_r_mut_const = np.zeros(4)\n",
    "sem_r_mut_const = np.zeros(4)\n",
    "\n",
    "# Fecundity functions mutant\n",
    "m_mut_const = np.zeros((4*nrepeats,Tmax))\n",
    "#m_mut_var = np.zeros((3*nrepeats_mut,Tmax))\n",
    "fert_mut_const = np.zeros((4,Tmax))\n",
    "counter = 0\n",
    "for z in range(4):\n",
    "    fert_mut_const[z,39] = 24.0\n",
    "    fert_mut_const[z,79] = 18.0 \n",
    "    for s in range(nrepeats):\n",
    "        counter = counter + 1\n",
    "        m_mut_const[counter-1,:] = fert_mut_const[z,:]\n",
    "f_mut_const = np.multiply(mut_wild_all*(1/nind),m_mut_const)\n",
    "\n",
    "\n",
    "# Calculate mean, std and sem for R0 and r for the mutant \n",
    "# Calculate R0 and r for all instances\n",
    "for i in range(4*nrepeats):\n",
    "    R0_mut_const[i] = np.sum(f_mut_const[i,:])\n",
    "    \n",
    "    a, b = -2, 8\n",
    "    f = f_mut_const[i,:]\n",
    "    r = brentq(func, a, b)\n",
    "    r_mut_const[i] = r\n",
    "\n",
    "# Calculate mean, std and sem for R0 and r for every nrepeats chunk for mutant (for each epsilon value)\n",
    "for k in range(4):\n",
    "    mean_R0_mut_const[k] = np.mean(R0_mut_const[k*nrepeats:k*nrepeats+(nrepeats-1)])\n",
    "    std_R0_mut_const[k] = np.std(R0_mut_const[k*nrepeats:k*nrepeats+(nrepeats-1)])\n",
    "    sem_R0_mut_const[k] = np.std(R0_mut_const[k*nrepeats:k*nrepeats+(nrepeats-1)])/math.sqrt(nrepeats_mut)\n",
    "    mean_r_mut_const[k] = np.mean(r_mut_const[k*nrepeats:k*nrepeats+(nrepeats-1)])\n",
    "    std_r_mut_const[k] = np.std(r_mut_const[k*nrepeats_mut:k*nrepeats+(nrepeats-1)])\n",
    "    sem_r_mut_const[k] = np.std(r_mut_const[k*nrepeats:k*nrepeats+(nrepeats-1)])/math.sqrt(nrepeats)\n",
    "\n",
    "    \n",
    "#@@@@@@@@@@@@@@@@@@@@@@@@@@@@@@@@@@@@@@@@@@@@@@@@@@@@@@@@@@@@\n",
    "\n",
    "#Matplotlib's default ten color circles: {‘C0’, ‘C1’, ‘C2’, ‘C3’, ‘C4’, ‘C5’, ‘C6’, ‘C7’, ‘C8’, ‘C9’}. This is the color used sequentially in matplotlib plots by default.\n",
    "# https://matplotlib.org/3.1.1/users/dflt_style_changes.html\n",
    "#https://matplotlib.org/3.3.3/gallery/lines_bars_and_markers/barchart.html#sphx-glr-gallery-lines-bars-and-markers-barchart-py\n",
    "\n",
    "    \n",
    "#Plotting Fig 3\n",
    "y1_pos = np.array([0,3,6,9])\n",
    "y2_pos = np.array([1,4,7,10])\n",
    "y3_pos = np.array([2,5,8,11])\n",
    "\n",
    "y4_pos = np.array([12,15,18,21])\n",
    "y5_pos = np.array([13,16,19,22])\n",
    "y6_pos = np.array([14,17,20])\n",
    "\n",
    "y7_pos =[11] #[4,12]\n",
    "dummy_R0 = np.zeros(4)\n",
    "dummy_r = np.zeros(3)\n",
    "\n",
    "fig,ax1 = plt.subplots(figsize=(6,6))\n",
    "\n",
    "ax1.bar(y1_pos,mean_R0_wt_const,width = 1.0,yerr=sem_R0_wt_const, align='center', alpha=0.4, ecolor='black', capsize=3, color = 'C0');\n",
    "ax1.bar(y2_pos,mean_R0_mut_const,width = 1.0,yerr=sem_R0_mut_const, align='center', alpha=0.8, ecolor='black', capsize=3, color = 'C0');\n",
    "ax1.bar(y3_pos,dummy_R0,width=0.3,color = 'w') #The width spec does not seem to work. width only refers to the relative width in the slot..\n",
    "\n",
    "ax1.set_ylabel('R0',fontsize=14);\n",
    "ax1.set_ylim(0.92*mean_R0_wt_const[0],1.005*mean_R0_wt_const[0])\n",
    "\n",
    "ax2 = ax1.twinx()\n",
    "\n",
    "ax2.bar(y4_pos,mean_r_wt_const,width = 1.0,yerr=sem_r_wt_const, align='center', alpha=0.4, ecolor='black', capsize=3,color = 'C3');\n",
    "ax2.bar(y5_pos,mean_r_mut_const,width = 1.0,yerr=sem_r_mut_const, align='center', alpha=0.8, ecolor='black', capsize=3,color = 'C3');\n",
    "ax2.bar(y6_pos,dummy_r,width=0.3,color = 'w') \n",
    "\n",
    "ax2.set_ylabel('r ',fontsize=14);\n",
    "ax2.set_ylim(0.95*mean_r_wt_const[0],1.0045*mean_r_wt_const[0])\n",
    "\n",
    "ax2.set_xticks(y7_pos);\n",
    "\n",
    "xticks = [' wt($\\epsilon$) vs mut($\\epsilon$)']\n",
    "ax1.set_xticklabels(xticks, fontsize=13);\n",
    "\n",
    "fig.tight_layout()\n",
    "\n",
    "figure = plt.gcf()\n",
    "figure.set_size_inches(3.42, 3.42)\n",
    "#plt.savefig('RA_PNAS_fig3_Frontinella.pdf', dpi = 1200, bbox_inches=\"tight\");"
   ]
  },
  {
   "cell_type": "markdown",
   "metadata": {},
   "source": [
    "Tested second egg batch for mutant = 24, like wild type. Results then corresponds to Fig.2, i.e. the reduced second egg batch due to senescence causes that one must up to above 3%."
   ]
  },
  {
   "cell_type": "code",
   "execution_count": null,
   "metadata": {},
   "outputs": [],
   "source": [
    "# Percentage difference in R0 when epsilon = 0.04\n",
    "(mean_R0_mut_const[3] - mean_R0_wt_const[3])*100/mean_R0_wt_const[3]"
   ]
  },
  {
   "cell_type": "code",
   "execution_count": null,
   "metadata": {},
   "outputs": [],
   "source": [
    "# Percentage difference in r when epsilon = 0.04\n",
    "(mean_r_mut_const[3] - mean_r_wt_const[3])*100/mean_r_wt_const[3]"
   ]
  },
  {
   "cell_type": "markdown",
   "metadata": {},
   "source": [
    "## Test of the correspondence between Eq. 8 and the Gompertz hazard rate function"
   ]
  },
  {
   "cell_type": "code",
   "execution_count": null,
   "metadata": {},
   "outputs": [],
   "source": [
    "# Test of the correspondence between Eq. 8 and the Gompertz hazard rate function\n",
    "nind = 1000\n",
    "nrepeats = 1000\n",
    "Tmax_C = 217\n",
    "alpha = 0.000222 \n",
    "kappa = 0.033 \n",
    "\n",
    "#Eq. 8 in ms\n",
    "mut_C = np.zeros((nrepeats,Tmax_C),dtype = int)\n",
    "for k in range(nrepeats):\n",
    "    s = np.ones((Tmax_C,nind),dtype = int); \n",
    "    for j in range(1,Tmax_C):\n",
    "        for i in range(nind):\n",
    "            ran = np.random.rand(1)\n",
    "            if s[j-1,i] == 1:\n",
    "                if ran < alpha*(((1+kappa)**(j+1))-1):\n",
    "                    s[j,i] = 0\n",
    "            if s[j-1,i] == 0:\n",
    "                s[j,i] = 0\n",
    "    mut_C[k,:] = np.sum(s, axis = 1)\n",
    "\n",
    "mean_mut_C = np.mean(mut_C,axis = 0)\n",
    "\n",
    "#Gompertz hazard rate function\n",
    "alpha_G = alpha*(1+kappa)\n",
    "\n",
    "mut_C_G = np.zeros((nrepeats,Tmax_C),dtype = int)\n",
    "for k in range(nrepeats):\n",
    "    s = np.ones((Tmax_C,nind),dtype = int); \n",
    "    for j in range(1,Tmax_C):\n",
    "        for i in range(nind):\n",
    "            ran = np.random.rand(1)\n",
    "            if s[j-1,i] == 1:\n",
    "                if ran < alpha_G*math.exp(math.log(1+kappa)*j): #-alpha:\n",
    "                    s[j,i] = 0\n",
    "            if s[j-1,i] == 0:\n",
    "                s[j,i] = 0\n",
    "    mut_C_G[k,:] = np.sum(s, axis = 1)\n",
    "\n",
    "mean_mut_C_G = np.mean(mut_C_G,axis = 0)\n",
    "\n",
    "np.set_printoptions(suppress=True)\n",
    "(mean_mut_C_G-mean_mut_C)*100/mean_mut_C"
   ]
  },
  {
   "cell_type": "markdown",
   "metadata": {},
   "source": [
    "array([ 0.        , -0.02190048, -0.04410203, -0.06840472, -0.09071052,\n",
    "       -0.11031798, -0.12982999, -0.15394588, -0.17536717, -0.19759129,\n",
    "       -0.21662196, -0.24026218, -0.26580839, -0.28805752, -0.31112263,\n",
    "       -0.33750095, -0.35858696, -0.380489  , -0.40199626, -0.42591477,\n",
    "       -0.4498582 , -0.47451749, -0.49379027, -0.51448068, -0.53918171,\n",
    "       -0.56320702, -0.58767911, -0.60805655, -0.6311664 , -0.65299389,\n",
    "       -0.6780581 , -0.69654493, -0.71405003, -0.73821201, -0.76383225,\n",
    "       -0.78739206, -0.80764486, -0.83390228, -0.85987698, -0.87194275,\n",
    "       -0.89327839, -0.91376685, -0.93431567, -0.95603011, -0.97962442,\n",
    "       -1.00056065, -1.0146804 , -1.04140644, -1.05719484, -1.08033593,\n",
    "       -1.09592891, -1.12119507, -1.15204035, -1.17935777, -1.20365031,\n",
    "       -1.22843182, -1.25049188, -1.27279592, -1.29541504, -1.31618879,\n",
    "       -1.34206064, -1.36225165, -1.37793018, -1.39118701, -1.41595819,\n",
    "       -1.44138981, -1.45551854, -1.47823233, -1.49318546, -1.50995655,\n",
    "       -1.52270698, -1.54984053, -1.58504822, -1.6121309 , -1.63997505,\n",
    "       -1.6638958 , -1.6836984 , -1.70227812, -1.73562843, -1.76097653,\n",
    "       -1.79366035, -1.81298254, -1.82074644, -1.84831669, -1.86140405,\n",
    "       -1.88088561, -1.89852632, -1.90459447, -1.93367942, -1.94781542,\n",
    "       -1.96543808, -1.98183172, -2.00767413, -2.0328614 , -2.05575709,\n",
    "       -2.08589878, -2.11171281, -2.13031603, -2.15412327, -2.15855655,\n",
    "       -2.19285597, -2.19934598, -2.22257935, -2.24129341, -2.26323411,\n",
    "       -2.29352271, -2.32010201, -2.34623244, -2.37593652, -2.40589097,\n",
    "       -2.42993459, -2.43527844, -2.44226631, -2.43692075, -2.47353896,\n",
    "       -2.49926465, -2.55134701, -2.55548119, -2.56959488, -2.59429177,\n",
    "       -2.60272765, -2.60988915, -2.64984983, -2.63486271, -2.68124186,\n",
    "       -2.70528741, -2.75655593, -2.74842265, -2.75544596, -2.79101366,\n",
    "       -2.81357321, -2.83370022, -2.84180525, -2.86208193, -2.86567295,\n",
    "       -2.861736  , -2.92430922, -2.96965738, -3.01009799, -2.99457763,\n",
    "       -3.0088203 , -3.06653584, -3.10303402, -3.11741221, -3.09707625,\n",
    "       -3.10099451, -3.14862736, -3.22632424, -3.21260392, -3.27431743,\n",
    "       -3.27020168, -3.23567359, -3.30198965, -3.33326093, -3.31753421,\n",
    "       -3.35320309, -3.3454407 , -3.33874304, -3.37782247, -3.40401653,\n",
    "       -3.42788467, -3.43707643, -3.34063718, -3.35597997, -3.43865775,\n",
    "       -3.51294762, -3.51900356, -3.56700816, -3.52951062, -3.60072192,\n",
    "       -3.56610609, -3.66324672, -3.73183554, -3.70747041, -3.75010447,\n",
    "       -4.06570809, -4.19927334, -4.16592135, -4.23208954, -4.25517886,\n",
    "       -4.41947476, -4.76054732, -4.87339356, -4.7785638 , -4.75615357,\n",
    "       -4.84169928, -5.15463918, -5.33119413, -5.67249376, -5.22780541,\n",
    "       -4.79311231, -5.29511693, -5.52039525, -5.54860822, -5.54023964,\n",
    "       -5.95788705, -6.42922246, -6.23783258, -6.05688368, -6.28115653,\n",
    "       -7.14285714, -7.32498841, -7.48211993, -8.09033107, -7.15990453,\n",
    "       -7.16601816, -8.15281607, -8.75842156, -6.69914738, -5.95054096,\n",
    "       -6.17042116, -2.29299363, -5.69105691, -3.00429185, -5.20547945,\n",
    "       -4.72727273, -6.56565657])"
   ]
  }
 ],
 "metadata": {
  "kernelspec": {
   "display_name": "Python 3",
   "language": "python",
   "name": "python3"
  },
  "language_info": {
   "codemirror_mode": {
    "name": "ipython",
    "version": 3
   },
   "file_extension": ".py",
   "mimetype": "text/x-python",
   "name": "python",
   "nbconvert_exporter": "python",
   "pygments_lexer": "ipython3",
   "version": "3.8.5"
  }
 },
 "nbformat": 4,
 "nbformat_minor": 4
}
