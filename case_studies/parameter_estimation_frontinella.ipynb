{
 "cells": [
  {
   "cell_type": "code",
   "execution_count": 1,
   "id": "c350fd45-8cf3-40f6-9758-568da8362c00",
   "metadata": {},
   "outputs": [],
   "source": [
    "%load_ext autoreload \n",
    "%autoreload 2\n",
    "\n",
    "import operator\n",
    "import sys\n",
    "\n",
    "import matplotlib.pyplot as plt\n",
    "import numpy as np\n",
    "\n",
    "sys.path.insert(0, '../') # The following modules are in the directory above\n",
    "from cohort_model import (\n",
    "    run_cohort_simulation,\n",
    "    HYP_WILDTYPE, \n",
    "    MUT_CAPTIVITY,\n",
    ")\n",
    "from figures import ROOT_DIR"
   ]
  },
  {
   "cell_type": "markdown",
   "id": "26b46820-0ece-48b2-bdcc-fddbcc34f600",
   "metadata": {
    "tags": []
   },
   "source": [
    "# Parameter estimation for case study 1 (*Frontinella pyramitela*)"
   ]
  },
  {
   "cell_type": "markdown",
   "id": "bdba215a-7682-4582-9299-cce2a269f11b",
   "metadata": {},
   "source": [
    "## Estimating $\\alpha$ and $\\kappa$"
   ]
  },
  {
   "cell_type": "markdown",
   "id": "16cd99b4-6d4d-4f64-8520-bfb3a17bb468",
   "metadata": {},
   "source": [
    "**Note:** The $\\alpha$ and $\\kappa$ values used in figures 1 and 2 were obtained during an earlier least squares fitting. In restructuring the code for publication we have also improved the fitting procedure and obtained new and better values. However, these are not used in the figures in order to produce results matching those in the published paper (which could not be updated by the time we obtained the better fit)."
   ]
  },
  {
   "cell_type": "code",
   "execution_count": 2,
   "id": "15b6091c-5da7-4783-82c7-56972fec3eb7",
   "metadata": {},
   "outputs": [],
   "source": [
    "# Simulation parameters\n",
    "individual_count = 1000 \n",
    "repetition_count = 100  \n",
    "\n",
    "t_m_captivity = 202  # Max t for curve fitting (last x data point = 201) \n",
    "t_m_wt = 101         # Max t for curve fitting (last x data point = 100)     "
   ]
  },
  {
   "cell_type": "code",
   "execution_count": 3,
   "id": "9f2d845b-11c0-4082-9637-fcc37c664b5a",
   "metadata": {},
   "outputs": [],
   "source": [
    "captivity_x = np.genfromtxt(f'{ROOT_DIR}/data/austad_1989/captivity_x.txt')\n",
    "captivity_y = np.genfromtxt(f'{ROOT_DIR}/data/austad_1989/captivity_y.txt')\n",
    "\n",
    "xdata = np.round(captivity_x).astype('int64') # In order to use for indexing\n",
    "ydata = captivity_y * individual_count"
   ]
  },
  {
   "cell_type": "code",
   "execution_count": null,
   "id": "28dd3166-974c-483e-97b1-3acfec9800c8",
   "metadata": {
    "tags": []
   },
   "outputs": [],
   "source": [
    "%%time\n",
    "data_count = len(xdata)\n",
    "\n",
    "fit = []\n",
    "# TODO: The population is set to mutant captivity in order to \n",
    "for alpha in np.arange(0.0002, 0.0003, 0.00001): \n",
    "    for kappa in np.arange(0.02, 0.04, 0.0001): \n",
    "        hazard_rate_params = dict(alpha=alpha, kappa=kappa, population=MUT_CAPTIVITY)\n",
    "        population_survivorship = run_cohort_simulation(\n",
    "            repetition_count, \n",
    "            individual_count, \n",
    "            hazard_rate_params, \n",
    "            t_m_captivity\n",
    "        )\n",
    "        mean = np.mean(population_survivorship, axis=0)[xdata]\n",
    "        squares = [(mean[index] - ydata[index])**2 for index in range(data_count)] \n",
    "        fit.append((alpha, kappa, sum(squares)))"
   ]
  },
  {
   "cell_type": "code",
   "execution_count": null,
   "id": "2a739ba8-2d60-426c-b7c8-ed54e7d3e45f",
   "metadata": {
    "tags": []
   },
   "outputs": [],
   "source": [
    "best_fits = sorted(fit, key=operator.itemgetter(2))\n",
    "print(*best_fits[0:10], sep='\\n')"
   ]
  },
  {
   "cell_type": "markdown",
   "id": "d431e58c-404c-4f33-b74b-166ed05fa5e7",
   "metadata": {},
   "source": [
    "### Estimating $\\epsilon$ and $h_{wt}(t)$"
   ]
  },
  {
   "cell_type": "code",
   "execution_count": null,
   "id": "6aa3a554-e111-435e-808b-47c0475a1d9a",
   "metadata": {},
   "outputs": [],
   "source": [
    "x_wild = np.genfromtxt(f'{ROOT_DIR}/data/austad_1989/wild_x.txt')\n",
    "y_wild = np.genfromtxt(f'{ROOT_DIR}/data/austad_1989/wild_y.txt')\n",
    "\n",
    "xdata_w = np.round(x_wild).astype('int64') # In order to use for indexing\n",
    "ydata_w = y_wild * individual_count\n",
    "\n",
    "xdata_w = xdata_w[:-2] # In order not to fit to the last two data points\n",
    "ydata_w = ydata_w[:-2] # In order not to fit to the last two data points"
   ]
  },
  {
   "cell_type": "code",
   "execution_count": null,
   "id": "38fcdcc2-af9e-4201-aeb8-d16f9866d6c0",
   "metadata": {},
   "outputs": [],
   "source": [
    "%%time\n",
    "n = len(xdata_w)\n",
    "\n",
    "fit = []\n",
    "# TODO: The population is set to the hypothetical wild type, in order to use the \n",
    "for prod_wt in np.arange(0.0378, 0.0382, 0.000025):  # prod_wt = (1 - epsilon) * h_wt\n",
    "    hazard_rate_params = dict(hazard_rate_wild_type=prod_wt, population=HYP_WILDTYPE)\n",
    "    population_survivorship = run_cohort_simulation(\n",
    "        repetition_count, \n",
    "        cohort, \n",
    "        hazard_rate_params, \n",
    "        t_m_wt,\n",
    "    )\n",
    "    mean = np.mean(population_survivorship, axis=0)[xdata_w]\n",
    "    squares = [(mean[i] - ydata_w[i])**2 for i in range(n)] # Not fitting to last two data points\n",
    "    fit.append((prod_wt, sum(squares)))"
   ]
  },
  {
   "cell_type": "code",
   "execution_count": null,
   "id": "1c846087-9c42-46de-a108-1d79e126d5f2",
   "metadata": {},
   "outputs": [],
   "source": [
    "best_fits = sorted(fit, key=operator.itemgetter(1))\n",
    "print(*best_fits[0:10], sep='\\n')"
   ]
  },
  {
   "cell_type": "code",
   "execution_count": null,
   "id": "9d61c53d-9dab-4a0c-9e17-c1f86296a17c",
   "metadata": {},
   "outputs": [],
   "source": [
    "prod_wt = best_fits[0][0]\n",
    "for epsilon in np.arange(0.01, 0.05, 0.01):\n",
    "    h_wt = prod_wt / (1 - epsilon)\n",
    "    print(f'epsilon = {epsilon}, h_wt = {h_wt}')"
   ]
  },
  {
   "cell_type": "code",
   "execution_count": null,
   "id": "42fd3beb-9d3c-45e0-a58a-6c6cb6e57e67",
   "metadata": {},
   "outputs": [],
   "source": []
  }
 ],
 "metadata": {
  "kernelspec": {
   "display_name": "Python 3",
   "language": "python",
   "name": "python3"
  },
  "language_info": {
   "codemirror_mode": {
    "name": "ipython",
    "version": 3
   },
   "file_extension": ".py",
   "mimetype": "text/x-python",
   "name": "python",
   "nbconvert_exporter": "python",
   "pygments_lexer": "ipython3",
   "version": "3.8.0"
  }
 },
 "nbformat": 4,
 "nbformat_minor": 5
}
