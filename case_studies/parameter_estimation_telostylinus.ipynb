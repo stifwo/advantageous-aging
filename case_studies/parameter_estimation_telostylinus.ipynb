{
 "cells": [
  {
   "cell_type": "code",
   "execution_count": 1,
   "id": "e8a86e5c-e40a-4ffe-ae91-155f38e744ac",
   "metadata": {},
   "outputs": [],
   "source": [
    "%load_ext autoreload \n",
    "%autoreload 2\n",
    "\n",
    "import operator\n",
    "import sys\n",
    "\n",
    "import matplotlib.pyplot as plt\n",
    "import numpy as np\n",
    "\n",
    "sys.path.insert(0, '../') # The following modules are in the directory above\n",
    "from cohort_model import (\n",
    "    run_cohort_simulation, \n",
    "    HYP_WILDTYPE,\n",
    "    MUT_CAPTIVITY,\n",
    "    MUT_WILD\n",
    ")\n",
    "from figures import ROOT_DIR"
   ]
  },
  {
   "cell_type": "markdown",
   "id": "64551368-4537-4693-b94c-7870010e77cd",
   "metadata": {},
   "source": [
    "# Parameter estimation for case study 2 (*Telostylinus angusticollis*)"
   ]
  },
  {
   "cell_type": "markdown",
   "id": "3ec171e5-24c5-4a39-8787-6f316c150563",
   "metadata": {},
   "source": [
    "## Estimating $\\alpha$ and $\\kappa$"
   ]
  },
  {
   "cell_type": "markdown",
   "id": "1830c767-609b-4ee8-b020-647918fdc9a9",
   "metadata": {},
   "source": [
    "**Note:** The $\\alpha$ and $\\kappa$ values (for females and males) used in figure 4 were obtained during an earlier least squares fitting. In restructuring the code for publication we have also improved the fitting procedure and obtained new and better values. However, these are not used in the figure in order to produce results matching those in the published paper (which could not be updated by the time we obtained the better fit)."
   ]
  },
  {
   "cell_type": "code",
   "execution_count": 2,
   "id": "88435cc9-8e09-4757-b5dd-c10dc015e8b2",
   "metadata": {},
   "outputs": [],
   "source": [
    "# Simulation parameters\n",
    "individual_count = 1000\n",
    "repetition_count = 100 \n",
    "\n",
    "t_m_f = 326 # Max t for curve fitting (last x data point = 325)\n",
    "t_m_m = 291 # Max t for curve fitting (last x data point = 290)"
   ]
  },
  {
   "cell_type": "code",
   "execution_count": 3,
   "id": "3c2720b7-363a-455c-9411-e52e666480eb",
   "metadata": {},
   "outputs": [],
   "source": [
    "# FEMALES\n",
    "x_captivity_f = np.genfromtxt(f'{ROOT_DIR}/data/kawasaki_2008/captivity_females_x.txt')\n",
    "y_captivity_f = np.genfromtxt(f'{ROOT_DIR}/data/kawasaki_2008/captivity_females_y.txt')\n",
    "\n",
    "xdata_f = np.round(x_captivity_f).astype('int64') # In order to use for indexing\n",
    "ydata_f = y_captivity_f * individual_count\n",
    "\n",
    "# MALES\n",
    "x_captivity_m = np.genfromtxt(f'{ROOT_DIR}/data/kawasaki_2008/captivity_males_x.txt')\n",
    "y_captivity_m = np.genfromtxt(f'{ROOT_DIR}/data/kawasaki_2008/captivity_males_y.txt')\n",
    "\n",
    "xdata_m = np.round(x_captivity_m).astype('int64') # In order to use for indexing\n",
    "ydata_m = y_captivity_m * individual_count"
   ]
  },
  {
   "cell_type": "code",
   "execution_count": 4,
   "id": "b94513e4-2bda-4e4b-a648-c72a2f69c8d1",
   "metadata": {
    "tags": []
   },
   "outputs": [
    {
     "name": "stdout",
     "output_type": "stream",
     "text": [
      "alpha, kappa, sum squares (females)\n",
      "(0.0029, 0.0084, 1154.8243000000007)\n",
      "(0.0029, 0.008499999999999999, 1195.1354999999985)\n",
      "(0.0028, 0.008499999999999999, 1314.1561999999994)\n",
      "(0.0029999999999999996, 0.0084, 1784.2904000000024)\n",
      "(0.0028, 0.0084, 2256.3816)\n",
      "(0.0029999999999999996, 0.008499999999999999, 2463.0410000000015)\n",
      "CPU times: user 1min 44s, sys: 1min 55s, total: 3min 39s\n",
      "Wall time: 4min 22s\n"
     ]
    }
   ],
   "source": [
    "%%time\n",
    "# FEMALES, least squares\n",
    "n = len(xdata_f)\n",
    "\n",
    "fit = []\n",
    "for alpha in np.arange(0.0028, 0.0030, 0.0001): \n",
    "    for kappa in np.arange(0.0084, 0.0085, 0.0001): \n",
    "        hazard_rate_params = dict(alpha=alpha, kappa=kappa, population=MUT_CAPTIVITY)\n",
    "        population_survivorship = run_cohort_simulation(\n",
    "            repetition_count, \n",
    "            individual_count, \n",
    "            hazard_rate_params, \n",
    "            t_m_f,   \n",
    "        )\n",
    "        mean = np.mean(population_survivorship, axis=0)[xdata_f]\n",
    "        squares = [(mean[i] - ydata_f[i])**2 for i in range(n)]\n",
    "        fit.append((alpha, kappa, sum(squares)))\n",
    "        \n",
    "best_fits = sorted(fit, key=operator.itemgetter(2))\n",
    "print('alpha, kappa, sum squares (females)')\n",
    "print(*best_fits[0:10], sep='\\n')"
   ]
  },
  {
   "cell_type": "code",
   "execution_count": 5,
   "id": "b6acefda-cedd-4ebc-b1fd-28143cd812f6",
   "metadata": {
    "tags": []
   },
   "outputs": [
    {
     "name": "stdout",
     "output_type": "stream",
     "text": [
      "alpha, kappa, sum squares (males)\n",
      "(0.00057, 0.0173, 519.0083000000002)\n",
      "(0.00057, 0.0172, 630.0872000000013)\n",
      "(0.00056, 0.0173, 640.3186999999987)\n",
      "(0.00058, 0.0172, 657.4858999999997)\n",
      "(0.00058, 0.0173, 887.0013000000015)\n",
      "(0.00056, 0.0172, 968.8162000000013)\n",
      "CPU times: user 1min 18s, sys: 1min 23s, total: 2min 41s\n",
      "Wall time: 3min\n"
     ]
    }
   ],
   "source": [
    "%%time\n",
    "# MALES, least squares\n",
    "n = len(xdata_m)\n",
    "\n",
    "fit = []\n",
    "for alpha in np.arange(0.00056, 0.00058, 0.00001): \n",
    "    for kappa in np.arange(0.0172, 0.0174, 0.0001): \n",
    "        hazard_rate_params = dict(alpha=alpha, kappa=kappa, population=MUT_CAPTIVITY)\n",
    "        population_survivorship = run_cohort_simulation(\n",
    "            repetition_count, \n",
    "            individual_count, \n",
    "            hazard_rate_params, \n",
    "            t_m_m, \n",
    "        )\n",
    "        mean = np.mean(population_survivorship, axis=0)[xdata_m]\n",
    "        squares = [(mean[i] - ydata_m[i])**2 for i in range(n)]\n",
    "        fit.append((alpha, kappa, sum(squares)))\n",
    "        \n",
    "best_fits = sorted(fit, key=operator.itemgetter(2))\n",
    "print('alpha, kappa, sum squares (males)')\n",
    "print(*best_fits[0:10], sep='\\n')"
   ]
  },
  {
   "cell_type": "markdown",
   "id": "6d9a1766-145f-4aa5-9c11-318b8d33bb30",
   "metadata": {},
   "source": [
    "### Estimating $\\epsilon$ and $h_{wt}(t)$"
   ]
  },
  {
   "cell_type": "code",
   "execution_count": 6,
   "id": "87899c28-9f59-4a6c-9665-3c15cd52247c",
   "metadata": {},
   "outputs": [],
   "source": [
    "# FEMALES\n",
    "x_wild_f = np.genfromtxt(f'{ROOT_DIR}/data/kawasaki_2008/wild_females_x.txt')\n",
    "y_wild_f = np.genfromtxt(f'{ROOT_DIR}/data/kawasaki_2008/wild_females_y.txt')\n",
    "\n",
    "x_wild_f = np.round(x_wild_f).astype('int64') # In order to use for indexing\n",
    "y_wild_f = y_wild_f * individual_count\n",
    "\n",
    "x_wild_f = x_wild_f[:-2] # In order not to fit to the last two data points\n",
    "y_wild_f = y_wild_f[:-2] # In order not to fit to the last two data points\n",
    "\n",
    "# MALES\n",
    "x_wild_m = np.genfromtxt(f'{ROOT_DIR}/data/kawasaki_2008/wild_males_x.txt')\n",
    "y_wild_m = np.genfromtxt(f'{ROOT_DIR}/data/kawasaki_2008/wild_males_y.txt')\n",
    "\n",
    "x_wild_m = np.round(x_wild_m).astype('int64') # In order to use for indexing\n",
    "y_wild_m = y_wild_m * individual_count\n",
    "\n",
    "x_wild_m = x_wild_m[:-2] # In order not to fit to the last two data points\n",
    "y_wild_m = y_wild_m[:-2] # In order not to fit to the last two data points"
   ]
  },
  {
   "cell_type": "code",
   "execution_count": 7,
   "id": "32a86ef9-b3a5-4e26-83f3-c744972bdbda",
   "metadata": {},
   "outputs": [
    {
     "name": "stdout",
     "output_type": "stream",
     "text": [
      "prod_wt, sum squares (females)\n",
      "(0.05, 938.5554999999972)\n",
      "(0.049, 1584.9529999999954)\n",
      "(0.048, 2186.0851999999986)\n",
      "(0.047, 3438.0354000000043)\n",
      "(0.046, 4068.537700000001)\n",
      "\n",
      "epsilon = 0.01, h_wt_f = 0.05050505050505051\n",
      "epsilon = 0.02, h_wt_f = 0.05102040816326531\n",
      "epsilon = 0.03, h_wt_f = 0.051546391752577324\n",
      "epsilon = 0.04, h_wt_f = 0.052083333333333336\n",
      "CPU times: user 9.73 s, sys: 7.53 s, total: 17.3 s\n",
      "Wall time: 19.8 s\n"
     ]
    }
   ],
   "source": [
    "%%time\n",
    "# FEMALES, least squares\n",
    "t_m_wild_f = 100\n",
    "n = len(x_wild_f)\n",
    "\n",
    "fit = []\n",
    "# TODO: The population is set to the hypothetical wild type, in order to use the \n",
    "for prod_wt_f in np.arange(0.046, 0.051, 0.001): # prod_wt = (1 - epsilon) * h_wt\n",
    "    hazard_rate_params = dict(hazard_rate_hypwt=prod_wt_f, population=HYP_WILDTYPE) \n",
    "    population_survivorship = run_cohort_simulation(\n",
    "        repetition_count, \n",
    "        individual_count, \n",
    "        hazard_rate_params, \n",
    "        t_m_wild_f,\n",
    "    )\n",
    "    mean = np.mean(population_survivorship, axis=0)[x_wild_f]\n",
    "    squares = [(mean[i] - y_wild_f[i])**2 for i in range(n)] # Not fitting to last two data points\n",
    "    fit.append((prod_wt_f, sum(squares)))\n",
    "\n",
    "best_fits_f = sorted(fit, key=operator.itemgetter(1))\n",
    "print('prod_wt, sum squares (females)')\n",
    "print(*best_fits_f[0:10], sep='\\n')\n",
    "print()\n",
    "\n",
    "prod_wt_f = best_fits_f[0][0]\n",
    "for epsilon in np.arange(0.01, 0.05, 0.01):\n",
    "    h_wt = prod_wt_f / (1 - epsilon)\n",
    "    print(f'epsilon = {epsilon}, h_wt_f = {h_wt}')"
   ]
  },
  {
   "cell_type": "code",
   "execution_count": 8,
   "id": "29df2dec-44b5-4e83-8d7b-844dc5ae9c9d",
   "metadata": {
    "tags": []
   },
   "outputs": [
    {
     "name": "stdout",
     "output_type": "stream",
     "text": [
      "prod_wt, sum squares (males)\n",
      "(0.04390000000000002, 2013.533)\n",
      "(0.044000000000000025, 2088.5169000000024)\n",
      "(0.04370000000000002, 2100.6717999999983)\n",
      "(0.0432, 2137.9075999999995)\n",
      "(0.043600000000000014, 2158.1651000000015)\n",
      "(0.04380000000000002, 2183.2758000000035)\n",
      "(0.043300000000000005, 2234.047400000005)\n",
      "(0.043, 2242.0629999999983)\n",
      "(0.04350000000000001, 2267.1160999999965)\n",
      "(0.04340000000000001, 2412.368100000005)\n",
      "\n",
      "epsilon = 0.01, h_wt_m = 0.044343434343434365\n",
      "epsilon = 0.02, h_wt_m = 0.04479591836734696\n",
      "epsilon = 0.03, h_wt_m = 0.04525773195876291\n",
      "epsilon = 0.04, h_wt_m = 0.04572916666666669\n",
      "CPU times: user 7.41 s, sys: 4.01 s, total: 11.4 s\n",
      "Wall time: 12 s\n"
     ]
    }
   ],
   "source": [
    "%%time\n",
    "# MALES, least squares\n",
    "t_m_wild_m = 53 # TODO: Korrekt?\n",
    "n = len(x_wild_m)\n",
    "\n",
    "fit = []\n",
    "for prod_wt_m in np.arange(0.043, 0.044, 0.0001): # prod_wt = (1 - epsilon) * h_wt\n",
    "    hazard_rate_params = dict(hazard_rate_hypwt=prod_wt_m, population=HYP_WILDTYPE)\n",
    "    population_survivorship = run_cohort_simulation(\n",
    "        repetition_count, \n",
    "        individual_count, \n",
    "        hazard_rate_params, \n",
    "        t_m_wild_m,\n",
    "    )\n",
    "    mean = np.mean(population_survivorship, axis=0)[x_wild_m]\n",
    "    squares = [(mean[i] - y_wild_m[i])**2 for i in range(n)] # Not fitting to last two data points\n",
    "    fit.append((prod_wt_m, sum(squares)))\n",
    "\n",
    "best_fits_m = sorted(fit, key=operator.itemgetter(1))\n",
    "print('prod_wt, sum squares (males)')\n",
    "print(*best_fits_m[0:10], sep='\\n')\n",
    "print()\n",
    "\n",
    "prod_wt_m = best_fits_m[0][0]\n",
    "for epsilon in np.arange(0.01, 0.05, 0.01):\n",
    "    h_wt = prod_wt_m / (1 - epsilon)\n",
    "    print(f'epsilon = {epsilon}, h_wt_m = {h_wt}')"
   ]
  },
  {
   "cell_type": "markdown",
   "id": "476d5c9b-1578-47fd-ae03-8314ae276706",
   "metadata": {},
   "source": [
    "## Estimating $\\omega$ and $\\tau$\n",
    "\n",
    "A phenomenological extra morality term was needed for wild males. The term consists of parameters $\\omega$ and $\\tau$ which are estimated below."
   ]
  },
  {
   "cell_type": "code",
   "execution_count": 9,
   "id": "96b3199d-54ef-4c8a-ad1a-cf787fec3a22",
   "metadata": {},
   "outputs": [],
   "source": [
    "# Wild male simulation parameters\n",
    "individual_count = 1000\n",
    "repetition_count = 100\n",
    "\n",
    "t_m_wild_m = 54  # Max t for curve fitting (last x data point = 53)\n",
    "\n",
    "epsilon = 0.04\n",
    "\n",
    "# The following three values are from an earlier parameter estimation, see note in top of notebook\n",
    "hazard_rate_hypwt = 0.0453 \n",
    "alpha_m = 0.00057\n",
    "kappa_m = 0.0173\n",
    "\n",
    "# Target parameters, these have been estimated iteratively in a manual fashion\n",
    "omega = 0.0001\n",
    "tau = 1.8 "
   ]
  },
  {
   "cell_type": "code",
   "execution_count": 10,
   "id": "2f67200b-24c5-4d91-96c0-f4dca98ad513",
   "metadata": {},
   "outputs": [
    {
     "data": {
      "text/plain": [
       "[<matplotlib.lines.Line2D at 0x11b703d60>]"
      ]
     },
     "execution_count": 10,
     "metadata": {},
     "output_type": "execute_result"
    },
    {
     "data": {
      "image/png": "[encoded data removed]",
      "text/plain": [
       "<Figure size 432x432 with 1 Axes>"
      ]
     },
     "metadata": {
      "needs_background": "light"
     },
     "output_type": "display_data"
    }
   ],
   "source": [
    "# Run simulation and calculate mean\n",
    "hazard_rate_params = dict(alpha=alpha_m, kappa=kappa_m, omega=omega, tau=tau, epsilon=epsilon, hazard_rate_hypwt=hazard_rate_hypwt, population=MUT_WILD)\n",
    "survivorship_wild_m = run_cohort_simulation(repetition_count, individual_count, hazard_rate_params, t_m_wild_m)\n",
    "wild_mean = np.mean(survivorship_wild_m, axis=0)\n",
    "\n",
    "# Inspect quality of fit\n",
    "wild_m_x = np.genfromtxt(f'{ROOT_DIR}/data/kawasaki_2008/wild_males_x.txt')\n",
    "wild_m_y = np.genfromtxt(f'{ROOT_DIR}/data/kawasaki_2008/wild_males_y.txt')\n",
    "wild_m_y = wild_m_y * individual_count\n",
    "\n",
    "t_steps = np.arange(t_m_wild_m) \n",
    "\n",
    "fig1, ax = plt.subplots(figsize=(6, 6))\n",
    "ax.plot(wild_m_x, wild_m_y, 'bo', markersize=4)                                 \n",
    "ax.plot(t_steps, wild_mean, 'b-')"
   ]
  }
 ],
 "metadata": {
  "kernelspec": {
   "display_name": "Python 3",
   "language": "python",
   "name": "python3"
  },
  "language_info": {
   "codemirror_mode": {
    "name": "ipython",
    "version": 3
   },
   "file_extension": ".py",
   "mimetype": "text/x-python",
   "name": "python",
   "nbconvert_exporter": "python",
   "pygments_lexer": "ipython3",
   "version": "3.8.0"
  }
 },
 "nbformat": 4,
 "nbformat_minor": 5
}
