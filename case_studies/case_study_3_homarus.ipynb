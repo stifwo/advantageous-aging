{
 "cells": [
  {
   "cell_type": "markdown",
   "metadata": {},
   "source": [
    "# Case study 3: Decreasing mortality risk and increasing fecundity with age – using life-history data on European lobster *Homarus gammarus*"
   ]
  },
  {
   "cell_type": "code",
   "execution_count": 1,
   "metadata": {},
   "outputs": [],
   "source": [
    "%load_ext autoreload \n",
    "%autoreload 2\n",
    "\n",
    "import sys\n",
    "\n",
    "import numpy as np\n",
    "\n",
    "sys.path.insert(0, '../') # The following modules are in the directory above\n",
    "import figures\n",
    "from cohort_model import (\n",
    "    population_survivorship_difference,\n",
    "    HYP_WILDTYPE,\n",
    "    MUT_WILD\n",
    ")\n",
    "from fitness import get_fitness_data, homarus_fertility"
   ]
  },
  {
   "cell_type": "markdown",
   "metadata": {},
   "source": [
    "## Predicted lifetime reproductive success and intrinsic rate of increase for females with indeterminate growth and negative senescence not restraining and restraining somatic maintenance (Figure 5 in paper)"
   ]
  },
  {
   "cell_type": "code",
   "execution_count": 2,
   "metadata": {},
   "outputs": [],
   "source": [
    "# Figure 5 parameters\n",
    "individual_count = 1000\n",
    "repetition_count = 1000\n",
    "\n",
    "t_m = 100\n",
    "\n",
    "epsilons = np.array([0.01, 0.02, 0.03, 0.04])\n",
    "\n",
    "alpha = 0.000222 # Adapted from case study 1\n",
    "kappa = 0.033    # Adapted from case study 1\n",
    "hazard_rates_wt = np.array(0.077).repeat(4)\n",
    "beta =  0.8\n",
    "\n",
    "sigma = 1.0\n",
    "gamma = 4.0\n",
    "mu = 50.0\n",
    "\n",
    "frequency = 4 # Birth terms every nth time step"
   ]
  },
  {
   "cell_type": "code",
   "execution_count": 3,
   "metadata": {},
   "outputs": [
    {
     "name": "stdout",
     "output_type": "stream",
     "text": [
      "CPU times: user 2min, sys: 1min 36s, total: 3min 36s\n",
      "Wall time: 3min 41s\n"
     ]
    }
   ],
   "source": [
    "%%time\n",
    "hazard_rate_params = dict(alpha=alpha, kappa=kappa, beta=beta, t_m=t_m)\n",
    "population_simulations, mean_diff, std_diff = population_survivorship_difference(\n",
    "    individual_count=individual_count,\n",
    "    repetition_count=repetition_count,\n",
    "    epsilons=epsilons,\n",
    "    hazard_rates_wt=hazard_rates_wt,\n",
    "    t_m=t_m,\n",
    "    populations=(MUT_WILD, HYP_WILDTYPE),\n",
    "    hazard_rate_params=hazard_rate_params\n",
    ")"
   ]
  },
  {
   "cell_type": "code",
   "execution_count": 9,
   "metadata": {},
   "outputs": [
    {
     "ename": "TypeError",
     "evalue": "plot_fig_2() got an unexpected keyword argument 'save_pdf'",
     "output_type": "error",
     "traceback": [
      "\u001b[0;31m---------------------------------------------------------------------------\u001b[0m",
      "\u001b[0;31mTypeError\u001b[0m                                 Traceback (most recent call last)",
      "\u001b[0;32m<ipython-input-9-b4fbb3685275>\u001b[0m in \u001b[0;36m<module>\u001b[0;34m\u001b[0m\n\u001b[1;32m      1\u001b[0m \u001b[0;31m# Inspect predicted temporal difference (not shown in paper)\u001b[0m\u001b[0;34m\u001b[0m\u001b[0;34m\u001b[0m\u001b[0;34m\u001b[0m\u001b[0m\n\u001b[1;32m      2\u001b[0m \u001b[0;31m# Using figure 2 plotting function for convenience\u001b[0m\u001b[0;34m\u001b[0m\u001b[0;34m\u001b[0m\u001b[0;34m\u001b[0m\u001b[0m\n\u001b[0;32m----> 3\u001b[0;31m \u001b[0mfigures\u001b[0m\u001b[0;34m.\u001b[0m\u001b[0mplot_fig_2\u001b[0m\u001b[0;34m(\u001b[0m\u001b[0mt_m\u001b[0m\u001b[0;34m,\u001b[0m \u001b[0mmean_diff\u001b[0m\u001b[0;34m,\u001b[0m \u001b[0mstd_diff\u001b[0m\u001b[0;34m,\u001b[0m \u001b[0mrepetition_count\u001b[0m\u001b[0;34m,\u001b[0m \u001b[0msave_pdf\u001b[0m\u001b[0;34m=\u001b[0m\u001b[0;32mFalse\u001b[0m\u001b[0;34m)\u001b[0m\u001b[0;34m\u001b[0m\u001b[0;34m\u001b[0m\u001b[0m\n\u001b[0m",
      "\u001b[0;31mTypeError\u001b[0m: plot_fig_2() got an unexpected keyword argument 'save_pdf'"
     ]
    }
   ],
   "source": [
    "# Inspect predicted temporal difference (not shown in paper)\n",
    "# Using figure 2 plotting function for convenience\n",
    "figures.plot_fig_2(t_m, mean_diff, std_diff, repetition_count, save_pdf=False)"
   ]
  },
  {
   "cell_type": "code",
   "execution_count": 5,
   "metadata": {},
   "outputs": [],
   "source": [
    "fertility_wt = homarus_fertility(t_m, sigma, gamma, frequency, HYP_WILDTYPE)\n",
    "fertility_wt = list(zip(range(t_m), fertility_wt))\n",
    "\n",
    "fertility_mut = homarus_fertility(t_m, sigma, gamma, frequency, MUT_WILD, mu=mu, alpha=alpha, kappa=kappa)\n",
    "fertility_mut = list(zip(range(t_m), fertility_mut))"
   ]
  },
  {
   "cell_type": "code",
   "execution_count": 6,
   "metadata": {
    "tags": []
   },
   "outputs": [],
   "source": [
    "fitness_stats_wt = get_fitness_data(population_simulations[HYP_WILDTYPE], fertility_wt)\n",
    "fitness_stats_mut = get_fitness_data(population_simulations[MUT_WILD], fertility_mut)"
   ]
  },
  {
   "cell_type": "code",
   "execution_count": 7,
   "metadata": {},
   "outputs": [
    {
     "name": "stdout",
     "output_type": "stream",
     "text": [
      "Increase in R0 from hypothetical wild type to mutant: 2.87%\n",
      "Increase in r from hypothetical wild type to mutant: 1.75%\n"
     ]
    },
    {
     "data": {
      "image/png": "[encoded data removed]",
      "text/plain": [
       "<Figure size 246.24x246.24 with 2 Axes>"
      ]
     },
     "metadata": {
      "needs_background": "light"
     },
     "output_type": "display_data"
    }
   ],
   "source": [
    "figures.plot_fig_5(fitness_stats_wt, fitness_stats_mut)\n",
    "\n",
    "r0_wt_mean = fitness_stats_wt['r0_mean']\n",
    "r_wt_mean = fitness_stats_wt['r_mean']\n",
    "r0_mut_mean = fitness_stats_mut['r0_mean']\n",
    "r_mut_mean = fitness_stats_mut['r_mean']\n",
    "\n",
    "print(f\"Increase in R0 for mutant relative to hypothetical wild type for epsilon = 0.04: {(r0_mut_mean[3] - r0_wt_mean[3]) / r0_wt_mean[3] * 100:.2f}%\")\n",
    "print(f\"Increase in r for mutant relative to hypothetical wild type for epsilon = 0.04 {(r_mut_mean[3] - np.mean(r_wt_mean)) / np.mean(r_wt_mean) * 100:.2f}%\")"
   ]
  }
 ],
 "metadata": {
  "kernelspec": {
   "display_name": "Python 3",
   "language": "python",
   "name": "python3"
  },
  "language_info": {
   "codemirror_mode": {
    "name": "ipython",
    "version": 3
   },
   "file_extension": ".py",
   "mimetype": "text/x-python",
   "name": "python",
   "nbconvert_exporter": "python",
   "pygments_lexer": "ipython3",
   "version": "3.8.5"
  }
 },
 "nbformat": 4,
 "nbformat_minor": 4
}
