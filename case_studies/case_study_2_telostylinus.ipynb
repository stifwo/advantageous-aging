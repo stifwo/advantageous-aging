{
 "cells": [
  {
   "cell_type": "markdown",
   "metadata": {},
   "source": [
    "# Case study 2: Increasing mortality risk with age in *Telostylinus angusticollis*"
   ]
  },
  {
   "cell_type": "code",
   "execution_count": 28,
   "metadata": {},
   "outputs": [],
   "source": [
    "%load_ext autoreload \n",
    "%autoreload 2\n",
    "\n",
    "import operator\n",
    "import sys\n",
    "\n",
    "import matplotlib.pyplot as plt\n",
    "import numpy as np\n",
    "\n",
    "sys.path.insert(0, '../') # The following modules are in the directory above\n",
    "import figures\n",
    "from cohort_model import (\n",
    "    get_mean_and_std,\n",
    "    population_survivorship_difference,\n",
    "    run_cohort_simulation, \n",
    "    HYP_WILD_TYPE,\n",
    "    MUTANT_CAP,\n",
    "    MUTANT_WILD\n",
    ")"
   ]
  },
  {
   "cell_type": "markdown",
   "metadata": {},
   "source": [
    "## Survivorship curves (Figure 4 in paper)"
   ]
  },
  {
   "cell_type": "code",
   "execution_count": 2,
   "metadata": {},
   "outputs": [],
   "source": [
    "# Figure 4 parameters\n",
    "individual_count = 1000\n",
    "repetition_count = 100\n",
    "\n",
    "t_m_cap_f = 325\n",
    "t_m_cap_m = 290\n",
    "t_m_wild_f = 100\n",
    "t_m_wild_m = 53\n",
    "\n",
    "epsilon = 0.04\n",
    "\n",
    "# The 8 parameters below are based on previous least-squares curve fitting \n",
    "# (see Telostylinus parameter estimation notebook for method)\n",
    "alpha_f = 0.00287\n",
    "kappa_f = 0.00842\n",
    "\n",
    "alpha_m = 0.00057\n",
    "kappa_m = 0.0173\n",
    "\n",
    "hazard_rate_f = 0.0503 / (1 - epsilon)\n",
    "hazard_rate_m = 0.0435 / (1 - epsilon)\n",
    "\n",
    "omega = 0.0001\n",
    "tau = 1.8 "
   ]
  },
  {
   "cell_type": "code",
   "execution_count": 3,
   "metadata": {
    "tags": []
   },
   "outputs": [],
   "source": [
    "# FEMALE CAPTIVITY\n",
    "hazard_rate_parameters = dict(alpha=alpha_f, kappa=kappa_f, population=MUTANT_CAP)\n",
    "captivity_f = run_cohort_simulation(repetition_count, individual_count, hazard_rate_parameters, t_m_cap_f)"
   ]
  },
  {
   "cell_type": "code",
   "execution_count": 4,
   "metadata": {},
   "outputs": [],
   "source": [
    "# MALE CAPTIVITY\n",
    "hazard_rate_parameters = dict(alpha=alpha_m, kappa=kappa_m, population=MUTANT_CAP)\n",
    "captivity_m = run_cohort_simulation(repetition_count, individual_count, hazard_rate_parameters, t_m_cap_m)"
   ]
  },
  {
   "cell_type": "code",
   "execution_count": 5,
   "metadata": {},
   "outputs": [],
   "source": [
    "# FEMALE WILD\n",
    "hazard_rate_parameters = dict(alpha=alpha_f, kappa=kappa_f, epsilon=epsilon, hazard_rate_wt=hazard_rate_f, population=MUTANT_WILD)\n",
    "wild_f = run_cohort_simulation(repetition_count, individual_count, hazard_rate_parameters, t_m_wild_f)"
   ]
  },
  {
   "cell_type": "code",
   "execution_count": 6,
   "metadata": {},
   "outputs": [],
   "source": [
    "# MALE WILD\n",
    "hazard_rate_parameters = dict(alpha=alpha_m, kappa=kappa_m, epsilon=epsilon, hazard_rate_wt=hazard_rate_m, omega=omega, tau=tau, population=MUTANT_WILD)\n",
    "wild_m = run_cohort_simulation(repetition_count, individual_count, hazard_rate_parameters, t_m_wild_m)"
   ]
  },
  {
   "cell_type": "code",
   "execution_count": 7,
   "metadata": {},
   "outputs": [],
   "source": [
    "# NORMALIZED MEAN\n",
    "cap_f_mean, _ = get_mean_and_std(captivity_f)\n",
    "cap_m_mean, _ = get_mean_and_std(captivity_m)\n",
    "wild_f_mean, _ = get_mean_and_std(wild_f)\n",
    "wild_m_mean, _ = get_mean_and_std(wild_m)"
   ]
  },
  {
   "cell_type": "code",
   "execution_count": 8,
   "metadata": {},
   "outputs": [
    {
     "data": {
      "image/png": "[encoded data removed]",
      "text/plain": [
       "<Figure size 246.24x246.24 with 1 Axes>"
      ]
     },
     "metadata": {
      "needs_background": "light"
     },
     "output_type": "display_data"
    }
   ],
   "source": [
    "figures.plot_fig_4(t_m_cap_f, t_m_cap_m, t_m_wild_f, t_m_wild_m, cap_f_mean, cap_m_mean, wild_f_mean, wild_m_mean)"
   ]
  },
  {
   "cell_type": "markdown",
   "metadata": {},
   "source": [
    "# Difference between area under survivorship curves for mutant and hypothetical wild type (results reported in paper)"
   ]
  },
  {
   "cell_type": "code",
   "execution_count": 9,
   "metadata": {
    "tags": []
   },
   "outputs": [],
   "source": [
    "# Area under curve parameters, common to both female and male calculations\n",
    "repetition_count = 1000\n",
    "epsilons = np.array([0., 0.01, 0.02, 0.03, 0.04])"
   ]
  },
  {
   "cell_type": "code",
   "execution_count": 10,
   "metadata": {},
   "outputs": [
    {
     "name": "stdout",
     "output_type": "stream",
     "text": [
      "CPU times: user 2min 25s, sys: 1min 54s, total: 4min 19s\n",
      "Wall time: 4min 24s\n"
     ]
    }
   ],
   "source": [
    "%%time\n",
    "# FEMALE\n",
    "h_wt_f = np.array([0.0503, 0.0508, 0.0513, 0.05185, 0.05239]) # TODO: Avklar hva som skjer her og dokumenter\n",
    "hazard_rate_parameters = dict(alpha=alpha_f, kappa=kappa_f) # No omega & tau for females\n",
    "\n",
    "population_simulations_f, _, _ = population_survivorship_difference(\n",
    "    individual_count=individual_count,\n",
    "    repetition_count=repetition_count,\n",
    "    epsilons=epsilons,\n",
    "    hazard_rates_wt=h_wt_f,\n",
    "    t_m=t_m_wild_f,\n",
    "    populations=(MUTANT_WILD, HYP_WILD_TYPE),\n",
    "    hazard_rate_parameters=hazard_rate_parameters\n",
    ")\n",
    "\n",
    "mutant_f = np.array(population_simulations_f[MUTANT_WILD])\n",
    "hyp_wt_f = np.array(population_simulations_f[HYP_WILD_TYPE])"
   ]
  },
  {
   "cell_type": "code",
   "execution_count": 11,
   "metadata": {},
   "outputs": [
    {
     "name": "stdout",
     "output_type": "stream",
     "text": [
      "CPU times: user 50.4 s, sys: 27.8 s, total: 1min 18s\n",
      "Wall time: 1min 19s\n"
     ]
    }
   ],
   "source": [
    "%%time\n",
    "# MALE\n",
    "h_wt_m = np.array([0.0435, 0.04393, 0.044387, 0.044845, 0.04531]) # TODO: Avklar hva som skjer her og dokumenter\n",
    "hazard_rate_parameters = dict(alpha=alpha_m, kappa=kappa_m, omega=omega, tau=tau)\n",
    "\n",
    "population_simulations_m, _, _ = population_survivorship_difference(\n",
    "    individual_count=individual_count,\n",
    "    repetition_count=repetition_count,\n",
    "    epsilons=epsilons,\n",
    "    hazard_rates_wt=h_wt_m,\n",
    "    t_m=t_m_wild_m,\n",
    "    populations=(MUTANT_WILD, HYP_WILD_TYPE),\n",
    "    hazard_rate_parameters=hazard_rate_parameters    \n",
    ")\n",
    "\n",
    "mutant_m = np.array(population_simulations_m[MUTANT_WILD])\n",
    "hyp_wt_m = np.array(population_simulations_m[HYP_WILD_TYPE])"
   ]
  },
  {
   "cell_type": "code",
   "execution_count": 12,
   "metadata": {},
   "outputs": [],
   "source": [
    "# Calculate the percentage of cases where the mutant has a larger area than the hypothetical wild type\n",
    "\n",
    "# FEMALE\n",
    "area_mut_f = np.trapz(mutant_f)\n",
    "area_hyp_wt_f = np.trapz(hyp_wt_f)\n",
    "area_diff_f = np.subtract(area_mut_f, area_hyp_wt_f)\n",
    "percentage_diff_f = np.sum(area_diff_f > 0, axis=1) / repetition_count * 100\n",
    "\n",
    "# MALE\n",
    "area_mut_m = np.trapz(mutant_m)\n",
    "area_hyp_wt_m = np.trapz(hyp_wt_m)\n",
    "area_diff_m = np.subtract(area_mut_m, area_hyp_wt_m)\n",
    "percentage_diff_m = np.sum(area_diff_m > 0, axis=1) / repetition_count * 100"
   ]
  },
  {
   "cell_type": "code",
   "execution_count": 13,
   "metadata": {},
   "outputs": [
    {
     "name": "stdout",
     "output_type": "stream",
     "text": [
      "Female, wild mutant wins [0.0, 40.0, 99.6, 100.0, 100.0] percent of the time at epsilon values of [0.0, 0.01, 0.02, 0.03, 0.04], respectively.\n",
      "\n",
      "Male, wild mutant wins [0.0, 98.6, 100.0, 100.0, 100.0] percent of the time at epsilon values of [0.0, 0.01, 0.02, 0.03, 0.04], respectively.\n"
     ]
    }
   ],
   "source": [
    "print(f\"Female, wild mutant wins {[float(x) for x in percentage_diff_f]} percent of the time at epsilon values of {[float(num) for num in epsilons]}, respectively.\\n\")\n",
    "print(f\"Male, wild mutant wins {[float(x) for x in percentage_diff_m]} percent of the time at epsilon values of {[float(num) for num in epsilons]}, respectively.\")"
   ]
  }
 ],
 "metadata": {
  "kernelspec": {
   "display_name": "Python 3",
   "language": "python",
   "name": "python3"
  },
  "language_info": {
   "codemirror_mode": {
    "name": "ipython",
    "version": 3
   },
   "file_extension": ".py",
   "mimetype": "text/x-python",
   "name": "python",
   "nbconvert_exporter": "python",
   "pygments_lexer": "ipython3",
   "version": "3.8.5"
  }
 },
 "nbformat": 4,
 "nbformat_minor": 4
}
