{
 "cells": [
  {
   "cell_type": "markdown",
   "metadata": {},
   "source": [
    "# Case study 1: Constant mortality risk in *Frontinella pyramitela*\n",
    "\n",
    "TODO: Short explanation"
   ]
  },
  {
   "cell_type": "code",
   "execution_count": 1,
   "metadata": {},
   "outputs": [],
   "source": [
    "from collections import defaultdict\n",
    "\n",
    "import numpy as np\n",
    "\n",
    "import figures\n",
    "from cohort_model import (\n",
    "    get_mean_and_std,\n",
    "    population_survivorship_difference, \n",
    "    run_simulation,\n",
    "    HYP_WILD_TYPE, \n",
    "    MUTANT_CAP,\n",
    "    MUTANT_WILD\n",
    ")\n",
    "from fitness import get_fitness_data"
   ]
  },
  {
   "cell_type": "markdown",
   "metadata": {},
   "source": [
    "## Survivorship curves (Figure 1 in paper)"
   ]
  },
  {
   "cell_type": "code",
   "execution_count": 2,
   "metadata": {
    "tags": []
   },
   "outputs": [],
   "source": [
    "# Figure 1 parameters\n",
    "individual_count = 1000 # Also used in figure 2\n",
    "alpha = 0.000222             # Also used in figure 2\n",
    "kappa = 0.033                # Also used in figure 2\n",
    "epsilon = 0.04\n",
    "hazard_rate_wt = 0.04015625 # 0.03855/(1 - epsilon) #TODO: Vise hvordan 0.03855 ble funnet\n",
    "repetition_count = 100\n",
    "t_m_captivity = 201\n",
    "t_m_wild = 100\n",
    "t_m_hyp_wt = 100\n",
    "\n",
    "# Instantiate dictionary with parameters common to all three populations\n",
    "hazard_rate_parameters = dict(hazard_rate_wt=hazard_rate_wt, epsilon=epsilon, alpha=alpha, kappa=kappa)"
   ]
  },
  {
   "cell_type": "code",
   "execution_count": 3,
   "metadata": {},
   "outputs": [
    {
     "name": "stdout",
     "output_type": "stream",
     "text": [
      "CPU times: user 7.84 s, sys: 7.33 s, total: 15.2 s\n",
      "Wall time: 15.8 s\n"
     ]
    }
   ],
   "source": [
    "%%time\n",
    "# Mutant captivity population\n",
    "hazard_rate_parameters[\"population\"] = MUTANT_CAP\n",
    "captivity_population = run_simulation(repetition_count, individual_count, hazard_rate_parameters, t_m_captivity)\n",
    "\n",
    "# Mutant wild population\n",
    "hazard_rate_parameters[\"population\"] = MUTANT_WILD\n",
    "wild_population = run_simulation(repetition_count, individual_count, hazard_rate_parameters, t_m_wild)\n",
    "\n",
    "# Hypothetical wild type population\n",
    "hazard_rate_parameters[\"population\"] = HYP_WILD_TYPE\n",
    "hyp_wt_population = run_simulation(repetition_count, individual_count, hazard_rate_parameters, t_m_hyp_wt)"
   ]
  },
  {
   "cell_type": "code",
   "execution_count": 4,
   "metadata": {},
   "outputs": [],
   "source": [
    "mean_captivity, std_captivity = get_mean_and_std(captivity_population)\n",
    "mean_wild, _ = get_mean_and_std(wild_population)\n",
    "mean_hyp_wt, std_hyp_wt = get_mean_and_std(hyp_wt_population)"
   ]
  },
  {
   "cell_type": "code",
   "execution_count": 5,
   "metadata": {},
   "outputs": [
    {
     "data": {
      "image/png": "[encoded data removed]",
      "text/plain": [
       "<Figure size 246.24x246.24 with 1 Axes>"
      ]
     },
     "metadata": {
      "needs_background": "light"
     },
     "output_type": "display_data"
    }
   ],
   "source": [
    "figures.plot_fig_1(\n",
    "    t_m_captivity=t_m_captivity,\n",
    "    t_m_wild=t_m_wild,\n",
    "    t_m_hyp_wt=t_m_hyp_wt,\n",
    "    mean_captivity=mean_captivity, \n",
    "    std_captivity=std_captivity, \n",
    "    mean_wild=mean_wild,\n",
    "    mean_hyp_wt=mean_hyp_wt,\n",
    "    std_hyp_wt=std_hyp_wt\n",
    ")"
   ]
  },
  {
   "cell_type": "markdown",
   "metadata": {},
   "source": [
    "## Predicted temporal difference between hypothetical wild type and mutant survivorship (Figure 2 in paper)"
   ]
  },
  {
   "cell_type": "code",
   "execution_count": null,
   "metadata": {},
   "outputs": [],
   "source": [
    "# Figure 2 parameters\n",
    "repetition_count = 1000 # Also used in figure 3\n",
    "t_m = 100  # Also used in figure 3\n",
    "epsilons = np.array([0.01, 0.02, 0.03, 0.04])\n",
    "hazard_rates_wt = np.array([0.03893939, 0.03933673, 0.039742268,0.04015625]) # based on previous least-squares fitting: (1-epsilon)p_wt = 0.0385499"
   ]
  },
  {
   "cell_type": "code",
   "execution_count": null,
   "metadata": {},
   "outputs": [],
   "source": [
    "%%time\n",
    "population_simulations, mean_diff, std_diff = population_survivorship_difference(\n",
    "    individual_count=individual_count,\n",
    "    repetition_count=repetition_count,\n",
    "    epsilons=epsilons,\n",
    "    hazard_rates_wt=hazard_rates_wt,\n",
    "    alpha=alpha,\n",
    "    kappa=kappa,\n",
    "    t_m=t_m\n",
    ")"
   ]
  },
  {
   "cell_type": "code",
   "execution_count": null,
   "metadata": {},
   "outputs": [],
   "source": [
    "figures.plot_fig_2(t_m, mean_diff, std_diff, repetition_count)"
   ]
  },
  {
   "cell_type": "markdown",
   "metadata": {},
   "source": [
    "## Pairwise comparison of predicted lifetime reproductive success and intrinsic rate of increase for the hypothetical wild type and mutant females (Figure 3 in paper)"
   ]
  },
  {
   "cell_type": "code",
   "execution_count": null,
   "metadata": {},
   "outputs": [],
   "source": [
    "# Figure 3 parameters\n",
    "# The population_simulations parameter is carried over as a result from calculations for figure 2\n",
    "fertility_wt = [(39, 24.0), (79, 24.0)]\n",
    "fertility_mut = [(39, 24.0), (79, 18.0)]"
   ]
  },
  {
   "cell_type": "code",
   "execution_count": null,
   "metadata": {},
   "outputs": [],
   "source": [
    "%%time\n",
    "fitness_stats_wt = get_fitness_data(population_simulations[HYP_WILD_TYPE], repetition_count, t_m, fertility_wt)\n",
    "fitness_stats_mut = get_fitness_data(population_simulations[MUTANT_WILD], repetition_count, t_m, fertility_mut)"
   ]
  },
  {
   "cell_type": "code",
   "execution_count": null,
   "metadata": {},
   "outputs": [],
   "source": [
    "figures.plot_fig_3(fitness_stats_wt, fitness_stats_mut)\n",
    "\n",
    "mean_r0_wt = fitness_stats_wt[\"mean_r0\"]\n",
    "mean_r_wt = fitness_stats_wt[\"mean_r\"]\n",
    "mean_r0_mut = fitness_stats_mut[\"mean_r0\"]\n",
    "mean_r_mut = fitness_stats_mut[\"mean_r\"]\n",
    "\n",
    "print(f\"Increase in R0 from hypothetical wild type to mutant: {(mean_r0_mut[3] - mean_r0_wt[3]) / mean_r0_wt[3] * 100:.2f}%\")\n",
    "print(f\"Increase in r from hypothetical wild type to mutant: {(mean_r_mut[3] - mean_r_wt[3]) / mean_r_wt[3] * 100:.2f}%\")"
   ]
  }
 ],
 "metadata": {
  "kernelspec": {
   "display_name": "Python 3",
   "language": "python",
   "name": "python3"
  },
  "language_info": {
   "codemirror_mode": {
    "name": "ipython",
    "version": 3
   },
   "file_extension": ".py",
   "mimetype": "text/x-python",
   "name": "python",
   "nbconvert_exporter": "python",
   "pygments_lexer": "ipython3",
   "version": "3.8.5"
  }
 },
 "nbformat": 4,
 "nbformat_minor": 4
}
